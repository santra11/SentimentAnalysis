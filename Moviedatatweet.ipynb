{
 "cells": [
  {
   "cell_type": "markdown",
   "id": "093574ca",
   "metadata": {},
   "source": [
    "#  Movie Sentiment Classifier using BiLSTM fastText embedding vs BiLSTM from scratch  "
   ]
  },
  {
   "cell_type": "code",
   "execution_count": 1,
   "id": "9a8ebc5a",
   "metadata": {},
   "outputs": [],
   "source": [
    "#import the libraies\n",
    "import pandas as pd\n",
    "import numpy as np\n",
    "from matplotlib import pyplot as plt\n",
    "import seaborn as sns\n",
    "import nltk\n",
    "from nltk.corpus import stopwords\n",
    "from nltk.stem import WordNetLemmatizer\n",
    "\n",
    "import codecs\n",
    "from tqdm import tqdm\n",
    "import time\n",
    "import re\n",
    "\n",
    "import nltk\n",
    "from nltk.corpus import stopwords\n",
    "from nltk.stem import SnowballStemmer\n",
    "from nltk.stem import WordNetLemmatizer\n",
    "import sklearn\n",
    "from sklearn.model_selection import train_test_split\n",
    "from tensorflow import keras\n",
    "import tensorflow as tf\n",
    "\n",
    "from tensorflow.keras import layers\n",
    "from keras.preprocessing.sequence import pad_sequences\n",
    "from keras.preprocessing.text import Tokenizer\n",
    "from tensorflow.keras.models import Sequential, Model\n",
    "from tensorflow.keras import Model\n",
    "from keras.layers.embeddings import Embedding\n",
    "from tensorflow.keras.layers import Conv1D, Bidirectional, LSTM, Dense, Input, Dropout, MaxPooling1D, SpatialDropout1D, GlobalMaxPooling1D\n",
    "from tensorflow.keras.callbacks import ModelCheckpoint\n",
    "from tensorflow.keras.optimizers import Adam\n",
    "from tensorflow.keras.callbacks import ReduceLROnPlateau, EarlyStopping"
   ]
  },
  {
   "cell_type": "code",
   "execution_count": 2,
   "id": "4b4b3b9d",
   "metadata": {},
   "outputs": [],
   "source": [
    "#read the dataset\n",
    "df=pd.read_csv('https://raw.githubusercontent.com/arditoibryan/Projects/master/20200602_Twitter_Sentiment_Analysis/movie_review.csv')"
   ]
  },
  {
   "cell_type": "code",
   "execution_count": 3,
   "id": "cd80ae5a",
   "metadata": {
    "scrolled": false
   },
   "outputs": [
    {
     "data": {
      "text/html": [
       "<div>\n",
       "<style scoped>\n",
       "    .dataframe tbody tr th:only-of-type {\n",
       "        vertical-align: middle;\n",
       "    }\n",
       "\n",
       "    .dataframe tbody tr th {\n",
       "        vertical-align: top;\n",
       "    }\n",
       "\n",
       "    .dataframe thead th {\n",
       "        text-align: right;\n",
       "    }\n",
       "</style>\n",
       "<table border=\"1\" class=\"dataframe\">\n",
       "  <thead>\n",
       "    <tr style=\"text-align: right;\">\n",
       "      <th></th>\n",
       "      <th>fold_id</th>\n",
       "      <th>cv_tag</th>\n",
       "      <th>html_id</th>\n",
       "      <th>sent_id</th>\n",
       "      <th>text</th>\n",
       "      <th>tag</th>\n",
       "    </tr>\n",
       "  </thead>\n",
       "  <tbody>\n",
       "    <tr>\n",
       "      <th>0</th>\n",
       "      <td>0</td>\n",
       "      <td>cv000</td>\n",
       "      <td>29590</td>\n",
       "      <td>0</td>\n",
       "      <td>films adapted from comic books have had plenty...</td>\n",
       "      <td>pos</td>\n",
       "    </tr>\n",
       "    <tr>\n",
       "      <th>1</th>\n",
       "      <td>0</td>\n",
       "      <td>cv000</td>\n",
       "      <td>29590</td>\n",
       "      <td>1</td>\n",
       "      <td>for starters , it was created by alan moore ( ...</td>\n",
       "      <td>pos</td>\n",
       "    </tr>\n",
       "    <tr>\n",
       "      <th>2</th>\n",
       "      <td>0</td>\n",
       "      <td>cv000</td>\n",
       "      <td>29590</td>\n",
       "      <td>2</td>\n",
       "      <td>to say moore and campbell thoroughly researche...</td>\n",
       "      <td>pos</td>\n",
       "    </tr>\n",
       "    <tr>\n",
       "      <th>3</th>\n",
       "      <td>0</td>\n",
       "      <td>cv000</td>\n",
       "      <td>29590</td>\n",
       "      <td>3</td>\n",
       "      <td>the book ( or \" graphic novel , \" if you will ...</td>\n",
       "      <td>pos</td>\n",
       "    </tr>\n",
       "    <tr>\n",
       "      <th>4</th>\n",
       "      <td>0</td>\n",
       "      <td>cv000</td>\n",
       "      <td>29590</td>\n",
       "      <td>4</td>\n",
       "      <td>in other words , don't dismiss this film becau...</td>\n",
       "      <td>pos</td>\n",
       "    </tr>\n",
       "  </tbody>\n",
       "</table>\n",
       "</div>"
      ],
      "text/plain": [
       "   fold_id cv_tag  html_id  sent_id  \\\n",
       "0        0  cv000    29590        0   \n",
       "1        0  cv000    29590        1   \n",
       "2        0  cv000    29590        2   \n",
       "3        0  cv000    29590        3   \n",
       "4        0  cv000    29590        4   \n",
       "\n",
       "                                                text  tag  \n",
       "0  films adapted from comic books have had plenty...  pos  \n",
       "1  for starters , it was created by alan moore ( ...  pos  \n",
       "2  to say moore and campbell thoroughly researche...  pos  \n",
       "3  the book ( or \" graphic novel , \" if you will ...  pos  \n",
       "4  in other words , don't dismiss this film becau...  pos  "
      ]
     },
     "execution_count": 3,
     "metadata": {},
     "output_type": "execute_result"
    }
   ],
   "source": [
    "df.head()"
   ]
  },
  {
   "cell_type": "code",
   "execution_count": 4,
   "id": "2f5df2c5",
   "metadata": {},
   "outputs": [
    {
     "data": {
      "text/plain": [
       "(64720, 6)"
      ]
     },
     "execution_count": 4,
     "metadata": {},
     "output_type": "execute_result"
    }
   ],
   "source": [
    "df.shape"
   ]
  },
  {
   "cell_type": "code",
   "execution_count": 5,
   "id": "8af02c58",
   "metadata": {
    "scrolled": true
   },
   "outputs": [
    {
     "data": {
      "text/plain": [
       "pos    32937\n",
       "neg    31783\n",
       "Name: tag, dtype: int64"
      ]
     },
     "execution_count": 5,
     "metadata": {},
     "output_type": "execute_result"
    }
   ],
   "source": [
    "df['tag'].value_counts()"
   ]
  },
  {
   "cell_type": "markdown",
   "id": "a3507e95",
   "metadata": {},
   "source": [
    "Tags are the target in our dataset where 'pos' stands for positive and 'neg' is negative. We drop the columns which are not required."
   ]
  },
  {
   "cell_type": "code",
   "execution_count": 6,
   "id": "79453d6b",
   "metadata": {},
   "outputs": [],
   "source": [
    "df = df.drop(['fold_id', 'cv_tag', 'html_id', 'sent_id'], axis=1)"
   ]
  },
  {
   "cell_type": "code",
   "execution_count": 7,
   "id": "017f06fc",
   "metadata": {
    "scrolled": true
   },
   "outputs": [
    {
     "data": {
      "text/html": [
       "<div>\n",
       "<style scoped>\n",
       "    .dataframe tbody tr th:only-of-type {\n",
       "        vertical-align: middle;\n",
       "    }\n",
       "\n",
       "    .dataframe tbody tr th {\n",
       "        vertical-align: top;\n",
       "    }\n",
       "\n",
       "    .dataframe thead th {\n",
       "        text-align: right;\n",
       "    }\n",
       "</style>\n",
       "<table border=\"1\" class=\"dataframe\">\n",
       "  <thead>\n",
       "    <tr style=\"text-align: right;\">\n",
       "      <th></th>\n",
       "      <th>text</th>\n",
       "      <th>tag</th>\n",
       "    </tr>\n",
       "  </thead>\n",
       "  <tbody>\n",
       "    <tr>\n",
       "      <th>0</th>\n",
       "      <td>films adapted from comic books have had plenty...</td>\n",
       "      <td>pos</td>\n",
       "    </tr>\n",
       "    <tr>\n",
       "      <th>1</th>\n",
       "      <td>for starters , it was created by alan moore ( ...</td>\n",
       "      <td>pos</td>\n",
       "    </tr>\n",
       "    <tr>\n",
       "      <th>2</th>\n",
       "      <td>to say moore and campbell thoroughly researche...</td>\n",
       "      <td>pos</td>\n",
       "    </tr>\n",
       "    <tr>\n",
       "      <th>3</th>\n",
       "      <td>the book ( or \" graphic novel , \" if you will ...</td>\n",
       "      <td>pos</td>\n",
       "    </tr>\n",
       "    <tr>\n",
       "      <th>4</th>\n",
       "      <td>in other words , don't dismiss this film becau...</td>\n",
       "      <td>pos</td>\n",
       "    </tr>\n",
       "  </tbody>\n",
       "</table>\n",
       "</div>"
      ],
      "text/plain": [
       "                                                text  tag\n",
       "0  films adapted from comic books have had plenty...  pos\n",
       "1  for starters , it was created by alan moore ( ...  pos\n",
       "2  to say moore and campbell thoroughly researche...  pos\n",
       "3  the book ( or \" graphic novel , \" if you will ...  pos\n",
       "4  in other words , don't dismiss this film becau...  pos"
      ]
     },
     "execution_count": 7,
     "metadata": {},
     "output_type": "execute_result"
    }
   ],
   "source": [
    "df.head()"
   ]
  },
  {
   "cell_type": "code",
   "execution_count": 8,
   "id": "7583251e",
   "metadata": {},
   "outputs": [],
   "source": [
    "df.columns = ['tweets', 'sentiment']"
   ]
  },
  {
   "cell_type": "code",
   "execution_count": 9,
   "id": "7e113245",
   "metadata": {
    "scrolled": false
   },
   "outputs": [
    {
     "data": {
      "text/html": [
       "<div>\n",
       "<style scoped>\n",
       "    .dataframe tbody tr th:only-of-type {\n",
       "        vertical-align: middle;\n",
       "    }\n",
       "\n",
       "    .dataframe tbody tr th {\n",
       "        vertical-align: top;\n",
       "    }\n",
       "\n",
       "    .dataframe thead th {\n",
       "        text-align: right;\n",
       "    }\n",
       "</style>\n",
       "<table border=\"1\" class=\"dataframe\">\n",
       "  <thead>\n",
       "    <tr style=\"text-align: right;\">\n",
       "      <th></th>\n",
       "      <th>tweets</th>\n",
       "      <th>sentiment</th>\n",
       "    </tr>\n",
       "  </thead>\n",
       "  <tbody>\n",
       "    <tr>\n",
       "      <th>0</th>\n",
       "      <td>films adapted from comic books have had plenty...</td>\n",
       "      <td>pos</td>\n",
       "    </tr>\n",
       "    <tr>\n",
       "      <th>1</th>\n",
       "      <td>for starters , it was created by alan moore ( ...</td>\n",
       "      <td>pos</td>\n",
       "    </tr>\n",
       "    <tr>\n",
       "      <th>2</th>\n",
       "      <td>to say moore and campbell thoroughly researche...</td>\n",
       "      <td>pos</td>\n",
       "    </tr>\n",
       "    <tr>\n",
       "      <th>3</th>\n",
       "      <td>the book ( or \" graphic novel , \" if you will ...</td>\n",
       "      <td>pos</td>\n",
       "    </tr>\n",
       "    <tr>\n",
       "      <th>4</th>\n",
       "      <td>in other words , don't dismiss this film becau...</td>\n",
       "      <td>pos</td>\n",
       "    </tr>\n",
       "  </tbody>\n",
       "</table>\n",
       "</div>"
      ],
      "text/plain": [
       "                                              tweets sentiment\n",
       "0  films adapted from comic books have had plenty...       pos\n",
       "1  for starters , it was created by alan moore ( ...       pos\n",
       "2  to say moore and campbell thoroughly researche...       pos\n",
       "3  the book ( or \" graphic novel , \" if you will ...       pos\n",
       "4  in other words , don't dismiss this film becau...       pos"
      ]
     },
     "execution_count": 9,
     "metadata": {},
     "output_type": "execute_result"
    }
   ],
   "source": [
    "df.head()"
   ]
  },
  {
   "cell_type": "code",
   "execution_count": 10,
   "id": "6729acdd",
   "metadata": {
    "scrolled": false
   },
   "outputs": [
    {
     "data": {
      "image/png": "[encoded data removed]",
      "text/plain": [
       "<Figure size 432x288 with 1 Axes>"
      ]
     },
     "metadata": {
      "needs_background": "light"
     },
     "output_type": "display_data"
    }
   ],
   "source": [
    "# Check whether the datset us balanced\n",
    "sns.countplot(x=\"sentiment\", data=df);"
   ]
  },
  {
   "cell_type": "code",
   "execution_count": 11,
   "id": "a1ee239b",
   "metadata": {
    "scrolled": false
   },
   "outputs": [],
   "source": [
    "# change sentiment value to either 0 or 1\n",
    "df['sentiment'] = [1 if s=='pos' else 0 for s in df['sentiment']]"
   ]
  },
  {
   "cell_type": "code",
   "execution_count": 12,
   "id": "aa37c7c4",
   "metadata": {
    "scrolled": false
   },
   "outputs": [
    {
     "data": {
      "text/html": [
       "<div>\n",
       "<style scoped>\n",
       "    .dataframe tbody tr th:only-of-type {\n",
       "        vertical-align: middle;\n",
       "    }\n",
       "\n",
       "    .dataframe tbody tr th {\n",
       "        vertical-align: top;\n",
       "    }\n",
       "\n",
       "    .dataframe thead th {\n",
       "        text-align: right;\n",
       "    }\n",
       "</style>\n",
       "<table border=\"1\" class=\"dataframe\">\n",
       "  <thead>\n",
       "    <tr style=\"text-align: right;\">\n",
       "      <th></th>\n",
       "      <th>tweets</th>\n",
       "      <th>sentiment</th>\n",
       "    </tr>\n",
       "  </thead>\n",
       "  <tbody>\n",
       "    <tr>\n",
       "      <th>0</th>\n",
       "      <td>films adapted from comic books have had plenty...</td>\n",
       "      <td>1</td>\n",
       "    </tr>\n",
       "    <tr>\n",
       "      <th>1</th>\n",
       "      <td>for starters , it was created by alan moore ( ...</td>\n",
       "      <td>1</td>\n",
       "    </tr>\n",
       "    <tr>\n",
       "      <th>2</th>\n",
       "      <td>to say moore and campbell thoroughly researche...</td>\n",
       "      <td>1</td>\n",
       "    </tr>\n",
       "    <tr>\n",
       "      <th>3</th>\n",
       "      <td>the book ( or \" graphic novel , \" if you will ...</td>\n",
       "      <td>1</td>\n",
       "    </tr>\n",
       "    <tr>\n",
       "      <th>4</th>\n",
       "      <td>in other words , don't dismiss this film becau...</td>\n",
       "      <td>1</td>\n",
       "    </tr>\n",
       "  </tbody>\n",
       "</table>\n",
       "</div>"
      ],
      "text/plain": [
       "                                              tweets  sentiment\n",
       "0  films adapted from comic books have had plenty...          1\n",
       "1  for starters , it was created by alan moore ( ...          1\n",
       "2  to say moore and campbell thoroughly researche...          1\n",
       "3  the book ( or \" graphic novel , \" if you will ...          1\n",
       "4  in other words , don't dismiss this film becau...          1"
      ]
     },
     "execution_count": 12,
     "metadata": {},
     "output_type": "execute_result"
    }
   ],
   "source": [
    "df.head()"
   ]
  },
  {
   "cell_type": "code",
   "execution_count": 13,
   "id": "574ac91f",
   "metadata": {},
   "outputs": [],
   "source": [
    "df_preprocess = df.copy()"
   ]
  },
  {
   "cell_type": "code",
   "execution_count": 14,
   "id": "b86ab598",
   "metadata": {
    "scrolled": false
   },
   "outputs": [
    {
     "data": {
      "image/png": "[encoded data removed]",
      "text/plain": [
       "<Figure size 432x288 with 1 Axes>"
      ]
     },
     "metadata": {
      "needs_background": "light"
     },
     "output_type": "display_data"
    }
   ],
   "source": [
    "# get length of all the messages in the data set\n",
    "seq_len = [len(i.split()) for i in df['tweets']]\n",
    "\n",
    "seq=pd.DataFrame(seq_len, columns=['seq_len'])\n",
    "\n",
    "sns.histplot(data=seq, x=\"seq_len\")\n",
    "plt.show()"
   ]
  },
  {
   "cell_type": "code",
   "execution_count": 15,
   "id": "4e8b0449",
   "metadata": {
    "scrolled": true
   },
   "outputs": [
    {
     "data": {
      "text/plain": [
       "0    films adapted from comic books have had plenty...\n",
       "1    for starters , it was created by alan moore ( ...\n",
       "2    to say moore and campbell thoroughly researche...\n",
       "3    the book ( or \" graphic novel , \" if you will ...\n",
       "4    in other words , don't dismiss this film becau...\n",
       "Name: tweets, dtype: object"
      ]
     },
     "execution_count": 15,
     "metadata": {},
     "output_type": "execute_result"
    }
   ],
   "source": [
    "tweets = df_preprocess.tweets\n",
    "tweets.head()"
   ]
  },
  {
   "cell_type": "code",
   "execution_count": 16,
   "id": "5a815555",
   "metadata": {},
   "outputs": [],
   "source": [
    "stop_words = stopwords.words('english')\n",
    "stemmer = SnowballStemmer('english')\n",
    "\n",
    "text_cleaning_re = \"@\\S+|https?:\\S+|http?:\\S|[^A-Za-z0-9]+\""
   ]
  },
  {
   "cell_type": "code",
   "execution_count": 17,
   "id": "3da43ed3",
   "metadata": {},
   "outputs": [],
   "source": [
    "def preprocess(text, stem=False):\n",
    "  text = re.sub(text_cleaning_re, ' ', str(text).lower()).strip()\n",
    "  tokens = []\n",
    "  for token in text.split():\n",
    "    if token not in stop_words:\n",
    "      if stem:\n",
    "        tokens.append(stemmer.stem(token))\n",
    "      else:\n",
    "        tokens.append(token)\n",
    "  return \" \".join(tokens)"
   ]
  },
  {
   "cell_type": "code",
   "execution_count": 18,
   "id": "4c54c8ac",
   "metadata": {
    "scrolled": false
   },
   "outputs": [],
   "source": [
    "df_preprocess.tweets = df_preprocess.tweets.apply(lambda x: preprocess(x))"
   ]
  },
  {
   "cell_type": "code",
   "execution_count": 19,
   "id": "d51a68a2",
   "metadata": {},
   "outputs": [],
   "source": [
    "df_preprocess= df_preprocess[['tweets', 'sentiment']]"
   ]
  },
  {
   "cell_type": "code",
   "execution_count": 20,
   "id": "a0c8c0b1",
   "metadata": {
    "scrolled": false
   },
   "outputs": [
    {
     "data": {
      "text/html": [
       "<div>\n",
       "<style scoped>\n",
       "    .dataframe tbody tr th:only-of-type {\n",
       "        vertical-align: middle;\n",
       "    }\n",
       "\n",
       "    .dataframe tbody tr th {\n",
       "        vertical-align: top;\n",
       "    }\n",
       "\n",
       "    .dataframe thead th {\n",
       "        text-align: right;\n",
       "    }\n",
       "</style>\n",
       "<table border=\"1\" class=\"dataframe\">\n",
       "  <thead>\n",
       "    <tr style=\"text-align: right;\">\n",
       "      <th></th>\n",
       "      <th>tweets</th>\n",
       "      <th>sentiment</th>\n",
       "    </tr>\n",
       "  </thead>\n",
       "  <tbody>\n",
       "    <tr>\n",
       "      <th>0</th>\n",
       "      <td>films adapted comic books plenty success wheth...</td>\n",
       "      <td>1</td>\n",
       "    </tr>\n",
       "    <tr>\n",
       "      <th>1</th>\n",
       "      <td>starters created alan moore eddie campbell bro...</td>\n",
       "      <td>1</td>\n",
       "    </tr>\n",
       "    <tr>\n",
       "      <th>2</th>\n",
       "      <td>say moore campbell thoroughly researched subje...</td>\n",
       "      <td>1</td>\n",
       "    </tr>\n",
       "    <tr>\n",
       "      <th>3</th>\n",
       "      <td>book graphic novel 500 pages long includes nea...</td>\n",
       "      <td>1</td>\n",
       "    </tr>\n",
       "    <tr>\n",
       "      <th>4</th>\n",
       "      <td>words dismiss film source</td>\n",
       "      <td>1</td>\n",
       "    </tr>\n",
       "  </tbody>\n",
       "</table>\n",
       "</div>"
      ],
      "text/plain": [
       "                                              tweets  sentiment\n",
       "0  films adapted comic books plenty success wheth...          1\n",
       "1  starters created alan moore eddie campbell bro...          1\n",
       "2  say moore campbell thoroughly researched subje...          1\n",
       "3  book graphic novel 500 pages long includes nea...          1\n",
       "4                          words dismiss film source          1"
      ]
     },
     "execution_count": 20,
     "metadata": {},
     "output_type": "execute_result"
    }
   ],
   "source": [
    "df_preprocess.head()"
   ]
  },
  {
   "cell_type": "code",
   "execution_count": 21,
   "id": "b785c801",
   "metadata": {
    "scrolled": false
   },
   "outputs": [
    {
     "data": {
      "text/plain": [
       "1    32937\n",
       "0    31783\n",
       "Name: sentiment, dtype: int64"
      ]
     },
     "execution_count": 21,
     "metadata": {},
     "output_type": "execute_result"
    }
   ],
   "source": [
    "df_preprocess['sentiment'].value_counts()"
   ]
  },
  {
   "cell_type": "markdown",
   "id": "0659d85c",
   "metadata": {},
   "source": [
    "The dataset is balanced"
   ]
  },
  {
   "cell_type": "code",
   "execution_count": 22,
   "id": "e0db19df",
   "metadata": {
    "scrolled": true
   },
   "outputs": [
    {
     "data": {
      "text/html": [
       "<div>\n",
       "<style scoped>\n",
       "    .dataframe tbody tr th:only-of-type {\n",
       "        vertical-align: middle;\n",
       "    }\n",
       "\n",
       "    .dataframe tbody tr th {\n",
       "        vertical-align: top;\n",
       "    }\n",
       "\n",
       "    .dataframe thead th {\n",
       "        text-align: right;\n",
       "    }\n",
       "</style>\n",
       "<table border=\"1\" class=\"dataframe\">\n",
       "  <thead>\n",
       "    <tr style=\"text-align: right;\">\n",
       "      <th></th>\n",
       "      <th>tweet</th>\n",
       "      <th>sentiment</th>\n",
       "    </tr>\n",
       "  </thead>\n",
       "  <tbody>\n",
       "    <tr>\n",
       "      <th>0</th>\n",
       "      <td>films adapted comic books plenty success wheth...</td>\n",
       "      <td>1</td>\n",
       "    </tr>\n",
       "    <tr>\n",
       "      <th>1</th>\n",
       "      <td>starters created alan moore eddie campbell bro...</td>\n",
       "      <td>1</td>\n",
       "    </tr>\n",
       "    <tr>\n",
       "      <th>2</th>\n",
       "      <td>say moore campbell thoroughly researched subje...</td>\n",
       "      <td>1</td>\n",
       "    </tr>\n",
       "    <tr>\n",
       "      <th>3</th>\n",
       "      <td>book graphic novel 500 pages long includes nea...</td>\n",
       "      <td>1</td>\n",
       "    </tr>\n",
       "    <tr>\n",
       "      <th>4</th>\n",
       "      <td>words dismiss film source</td>\n",
       "      <td>1</td>\n",
       "    </tr>\n",
       "  </tbody>\n",
       "</table>\n",
       "</div>"
      ],
      "text/plain": [
       "                                               tweet  sentiment\n",
       "0  films adapted comic books plenty success wheth...          1\n",
       "1  starters created alan moore eddie campbell bro...          1\n",
       "2  say moore campbell thoroughly researched subje...          1\n",
       "3  book graphic novel 500 pages long includes nea...          1\n",
       "4                          words dismiss film source          1"
      ]
     },
     "execution_count": 22,
     "metadata": {},
     "output_type": "execute_result"
    }
   ],
   "source": [
    "df_preprocess= df_preprocess.rename(columns={'tweets': 'tweet', 'sentiment': 'sentiment'})\n",
    "df_preprocess.head()"
   ]
  },
  {
   "cell_type": "code",
   "execution_count": 23,
   "id": "78adcfcc",
   "metadata": {
    "scrolled": true
   },
   "outputs": [
    {
     "name": "stdout",
     "output_type": "stream",
     "text": [
      "Vocabulary Size : 39245\n"
     ]
    }
   ],
   "source": [
    "# Utilize the keras tokenizer\n",
    "tokenizer = Tokenizer()\n",
    "tokenizer.fit_on_texts(df_preprocess.tweet)\n",
    "\n",
    "word_index = tokenizer.word_index\n",
    "vocabulary_size = len(tokenizer.word_index) + 1\n",
    "print(\"Vocabulary Size :\", vocabulary_size)"
   ]
  },
  {
   "cell_type": "markdown",
   "id": "9fdd2f97",
   "metadata": {},
   "source": [
    "### Fast Text Embedding"
   ]
  },
  {
   "cell_type": "code",
   "execution_count": 24,
   "id": "d689a4ca",
   "metadata": {},
   "outputs": [],
   "source": [
    "FASTEXT_EMB = 'wiki-news-300d-1M.vec'\n",
    "EMBEDDING_DIM = 300"
   ]
  },
  {
   "cell_type": "code",
   "execution_count": 25,
   "id": "472309e6",
   "metadata": {
    "scrolled": true
   },
   "outputs": [
    {
     "name": "stderr",
     "output_type": "stream",
     "text": [
      "999995it [01:49, 9166.15it/s]"
     ]
    },
    {
     "name": "stdout",
     "output_type": "stream",
     "text": [
      "found 999995 word vectors\n"
     ]
    },
    {
     "name": "stderr",
     "output_type": "stream",
     "text": [
      "\n"
     ]
    }
   ],
   "source": [
    "embeddings_index = {}\n",
    "f = codecs.open('wiki-news-300d-1M.vec', encoding='utf-8')\n",
    "for line in tqdm(f):\n",
    "    values = line.rstrip().rsplit(' ')\n",
    "    word = values[0]\n",
    "    coefs = np.asarray(values[1:], dtype='float32')\n",
    "    embeddings_index[word] = coefs\n",
    "f.close()\n",
    "print('found %s word vectors' % len(embeddings_index))"
   ]
  },
  {
   "cell_type": "code",
   "execution_count": 26,
   "id": "3b0e514d",
   "metadata": {},
   "outputs": [],
   "source": [
    "embedding_matrix = np.zeros((vocabulary_size, EMBEDDING_DIM))\n",
    "for word, i in word_index.items():\n",
    "  embedding_vector = embeddings_index.get(word)\n",
    "  if embedding_vector is not None:\n",
    "    embedding_matrix[i] = embedding_vector"
   ]
  },
  {
   "cell_type": "code",
   "execution_count": 27,
   "id": "dc695709",
   "metadata": {},
   "outputs": [],
   "source": [
    "encoded_text=tokenizer.texts_to_sequences(df_preprocess.tweet)"
   ]
  },
  {
   "cell_type": "code",
   "execution_count": 28,
   "id": "253c2513",
   "metadata": {},
   "outputs": [],
   "source": [
    "max_sequence_length = 60\n",
    "X=pad_sequences(encoded_text, maxlen=max_sequence_length, padding='post')\n",
    "y=df_preprocess['sentiment']"
   ]
  },
  {
   "cell_type": "code",
   "execution_count": 29,
   "id": "415ec930",
   "metadata": {},
   "outputs": [],
   "source": [
    "batch_size = 512\n",
    "epoch = 15"
   ]
  },
  {
   "cell_type": "code",
   "execution_count": 30,
   "id": "039b103a",
   "metadata": {
    "scrolled": false
   },
   "outputs": [
    {
     "name": "stdout",
     "output_type": "stream",
     "text": [
      "Train Data size: 48540\n",
      "Test Data size 16180\n"
     ]
    }
   ],
   "source": [
    "X_train, X_test, y_train, y_test = train_test_split(X, y, test_size=0.25, random_state=42)\n",
    "print(\"Train Data size:\", len(X_train))\n",
    "print(\"Test Data size\", len(X_test))"
   ]
  },
  {
   "cell_type": "code",
   "execution_count": 31,
   "id": "d9ea2b3c",
   "metadata": {
    "scrolled": true
   },
   "outputs": [
    {
     "data": {
      "text/plain": [
       "(39245, 300)"
      ]
     },
     "execution_count": 31,
     "metadata": {},
     "output_type": "execute_result"
    }
   ],
   "source": [
    "embedding_matrix.shape"
   ]
  },
  {
   "cell_type": "code",
   "execution_count": 32,
   "id": "e39deb24",
   "metadata": {},
   "outputs": [],
   "source": [
    "embedding_layer = tf.keras.layers.Embedding(vocabulary_size,\n",
    "                                          EMBEDDING_DIM,\n",
    "                                          weights=[embedding_matrix],\n",
    "                                          input_length=max_sequence_length,\n",
    "                                          trainable=False)"
   ]
  },
  {
   "cell_type": "markdown",
   "id": "203eebd5",
   "metadata": {},
   "source": [
    "We also utilize early stopping."
   ]
  },
  {
   "cell_type": "code",
   "execution_count": 33,
   "id": "3c4cc941",
   "metadata": {},
   "outputs": [],
   "source": [
    "es=EarlyStopping(monitor='val_loss', min_delta=0, mode='min', verbose=1, patience=10)\n",
    "\n",
    "reduce_lr = ReduceLROnPlateau(factor=0.1, min_delta=0, min_lr = 0.01, monitor = 'val_loss', verbose = 1)"
   ]
  },
  {
   "cell_type": "markdown",
   "id": "cd4cec1b",
   "metadata": {},
   "source": [
    "### Create bidirectional LSTM model using FastText embedding"
   ]
  },
  {
   "cell_type": "markdown",
   "id": "5681a6fc",
   "metadata": {},
   "source": [
    "For creating the model, we use\n",
    "\n",
    "- Embedding Layer - Generates Embedding Vector for each input sequence.\n",
    "\n",
    "- LSTM - Long Short Term Memory, its a variant of RNN which has memory state cell to learn the context of words which further along the text carry contextual meaning rather than just neighbouring words as in case of RNN. Unlike standard LSTM in the bi-directional LSTM the input flows in both directions and is capable of utilizing information from both sides.\n",
    "\n",
    "- Dense - Fully Connected Layers for classification"
   ]
  },
  {
   "attachments": {
    "BiLSTM.png": {
     "image/png": "[encoded data removed]"
    }
   },
   "cell_type": "markdown",
   "id": "55ac3a1c",
   "metadata": {},
   "source": [
    "![BiLSTM.png](attachment:BiLSTM.png)"
   ]
  },
  {
   "cell_type": "code",
   "execution_count": 34,
   "id": "6b64a2ba",
   "metadata": {
    "scrolled": false
   },
   "outputs": [
    {
     "name": "stderr",
     "output_type": "stream",
     "text": [
      "2023-05-23 17:10:30.431226: I tensorflow/core/platform/cpu_feature_guard.cc:151] This TensorFlow binary is optimized with oneAPI Deep Neural Network Library (oneDNN) to use the following CPU instructions in performance-critical operations:  AVX2 FMA\n",
      "To enable them in other operations, rebuild TensorFlow with the appropriate compiler flags.\n"
     ]
    }
   ],
   "source": [
    "model=Sequential()\n",
    "model.add(embedding_layer)\n",
    "model.add(Dropout(0.2))\n",
    "model.add(Bidirectional(LSTM(64, dropout=0.2, recurrent_dropout=0.2)))\n",
    "model.add(Dense(32, activation='relu'))\n",
    "model.add(Dropout(0.5))\n",
    "\n",
    "model.add(Dense(1, activation='sigmoid'))"
   ]
  },
  {
   "cell_type": "code",
   "execution_count": 35,
   "id": "af06f85f",
   "metadata": {},
   "outputs": [],
   "source": [
    "model.compile(optimizer=Adam(learning_rate=1e-3), loss='binary_crossentropy',metrics=['accuracy'])"
   ]
  },
  {
   "cell_type": "markdown",
   "id": "cbe4e683",
   "metadata": {},
   "source": [
    "#### Plot the model"
   ]
  },
  {
   "cell_type": "code",
   "execution_count": 36,
   "id": "873a1961",
   "metadata": {
    "scrolled": true
   },
   "outputs": [
    {
     "data": {
      "image/png": "[encoded data removed]",
      "text/plain": [
       "<IPython.core.display.Image object>"
      ]
     },
     "execution_count": 36,
     "metadata": {},
     "output_type": "execute_result"
    }
   ],
   "source": [
    "dot_img_file = 'model_1.png'\n",
    "tf.keras.utils.plot_model(model, to_file=dot_img_file, show_shapes=True)"
   ]
  },
  {
   "cell_type": "code",
   "execution_count": 37,
   "id": "3a63cdb5",
   "metadata": {
    "scrolled": true
   },
   "outputs": [
    {
     "name": "stdout",
     "output_type": "stream",
     "text": [
      "Epoch 1/15\n",
      "95/95 [==============================] - 146s 1s/step - loss: 0.6733 - accuracy: 0.5794 - val_loss: 0.6474 - val_accuracy: 0.6252 - lr: 0.0010\n",
      "Epoch 2/15\n",
      "95/95 [==============================] - 143s 2s/step - loss: 0.6523 - accuracy: 0.6199 - val_loss: 0.6421 - val_accuracy: 0.6286 - lr: 0.0010\n",
      "Epoch 3/15\n",
      "95/95 [==============================] - 142s 1s/step - loss: 0.6465 - accuracy: 0.6230 - val_loss: 0.6351 - val_accuracy: 0.6352 - lr: 0.0010\n",
      "Epoch 4/15\n",
      "95/95 [==============================] - 139s 1s/step - loss: 0.6431 - accuracy: 0.6251 - val_loss: 0.6337 - val_accuracy: 0.6353 - lr: 0.0010\n",
      "Epoch 5/15\n",
      "95/95 [==============================] - 139s 1s/step - loss: 0.6400 - accuracy: 0.6309 - val_loss: 0.6312 - val_accuracy: 0.6364 - lr: 0.0010\n",
      "Epoch 6/15\n",
      "95/95 [==============================] - 142s 1s/step - loss: 0.6376 - accuracy: 0.6318 - val_loss: 0.6318 - val_accuracy: 0.6420 - lr: 0.0010\n",
      "Epoch 7/15\n",
      "95/95 [==============================] - 2214s 24s/step - loss: 0.6359 - accuracy: 0.6352 - val_loss: 0.6294 - val_accuracy: 0.6418 - lr: 0.0010\n",
      "Epoch 8/15\n",
      "95/95 [==============================] - 137s 1s/step - loss: 0.6324 - accuracy: 0.6389 - val_loss: 0.6274 - val_accuracy: 0.6410 - lr: 0.0010\n",
      "Epoch 9/15\n",
      "95/95 [==============================] - 137s 1s/step - loss: 0.6302 - accuracy: 0.6401 - val_loss: 0.6275 - val_accuracy: 0.6436 - lr: 0.0010\n",
      "Epoch 10/15\n",
      "95/95 [==============================] - 156s 2s/step - loss: 0.6280 - accuracy: 0.6405 - val_loss: 0.6280 - val_accuracy: 0.6453 - lr: 0.0010\n",
      "Epoch 11/15\n",
      "95/95 [==============================] - 162s 2s/step - loss: 0.6238 - accuracy: 0.6473 - val_loss: 0.6238 - val_accuracy: 0.6512 - lr: 0.0010\n",
      "Epoch 12/15\n",
      "95/95 [==============================] - 162s 2s/step - loss: 0.6197 - accuracy: 0.6526 - val_loss: 0.6246 - val_accuracy: 0.6524 - lr: 0.0010\n",
      "Epoch 13/15\n",
      "95/95 [==============================] - 145s 2s/step - loss: 0.6159 - accuracy: 0.6556 - val_loss: 0.6199 - val_accuracy: 0.6526 - lr: 0.0010\n",
      "Epoch 14/15\n",
      "95/95 [==============================] - 136s 1s/step - loss: 0.6140 - accuracy: 0.6597 - val_loss: 0.6214 - val_accuracy: 0.6515 - lr: 0.0010\n",
      "Epoch 15/15\n",
      "95/95 [==============================] - 135s 1s/step - loss: 0.6087 - accuracy: 0.6644 - val_loss: 0.6178 - val_accuracy: 0.6538 - lr: 0.0010\n"
     ]
    }
   ],
   "source": [
    "history = model.fit(X_train, y_train, batch_size=batch_size, epochs=epoch,\n",
    "                    validation_data=(X_test, y_test), callbacks= [es, reduce_lr])"
   ]
  },
  {
   "cell_type": "code",
   "execution_count": 38,
   "id": "c53b502c",
   "metadata": {
    "scrolled": false
   },
   "outputs": [
    {
     "data": {
      "image/png": "[encoded data removed]",
      "text/plain": [
       "<Figure size 432x288 with 1 Axes>"
      ]
     },
     "metadata": {
      "needs_background": "light"
     },
     "output_type": "display_data"
    },
    {
     "data": {
      "image/png": "[encoded data removed]",
      "text/plain": [
       "<Figure size 432x288 with 1 Axes>"
      ]
     },
     "metadata": {
      "needs_background": "light"
     },
     "output_type": "display_data"
    }
   ],
   "source": [
    "#Plot the learning curves\n",
    "plt.plot(history.history['accuracy'], label='Train acc')\n",
    "plt.plot(history.history['val_accuracy'], label='Val acc')\n",
    "plt.legend()\n",
    "plt.show()\n",
    "\n",
    "plt.plot(history.history['loss'], label='Train loss')\n",
    "plt.plot(history.history['val_loss'], label='Val loss')\n",
    "plt.legend()\n",
    "plt.show()"
   ]
  },
  {
   "cell_type": "code",
   "execution_count": 39,
   "id": "19ec1e6a",
   "metadata": {
    "scrolled": true
   },
   "outputs": [
    {
     "name": "stdout",
     "output_type": "stream",
     "text": [
      "506/506 [==============================] - 19s 38ms/step - loss: 0.6178 - accuracy: 0.6538\n",
      "Accuracy: 65.38%\n"
     ]
    }
   ],
   "source": [
    "scores = model.evaluate(X_test, y_test, verbose=1)\n",
    "print(\"Accuracy: %.2f%%\" % (scores[1] * 100))"
   ]
  },
  {
   "cell_type": "code",
   "execution_count": 40,
   "id": "3fba4b98",
   "metadata": {
    "scrolled": true
   },
   "outputs": [
    {
     "name": "stdout",
     "output_type": "stream",
     "text": [
      "[[5279 2895]\n",
      " [2707 5299]]\n",
      "              precision    recall  f1-score   support\n",
      "\n",
      "           0       0.65      0.66      0.65      7986\n",
      "           1       0.66      0.65      0.65      8194\n",
      "\n",
      "    accuracy                           0.65     16180\n",
      "   macro avg       0.65      0.65      0.65     16180\n",
      "weighted avg       0.65      0.65      0.65     16180\n",
      "\n"
     ]
    }
   ],
   "source": [
    "# Predicting on the Test dataset.\n",
    "y_pred = model.predict(X_test)\n",
    "\n",
    "# Converting prediction to reflect the sentiment predicted.\n",
    "y_pred = np.where(y_pred>0.5, 1, 0)\n",
    "\n",
    "# Printing out the Evaluation metrics. \n",
    "from sklearn.metrics import confusion_matrix\n",
    "from sklearn.metrics import classification_report\n",
    "\n",
    "cm = confusion_matrix(y_pred,y_test)\n",
    "print(cm)\n",
    "\n",
    "# Print the evaluation metrics for the dataset.\n",
    "print(classification_report(y_test, y_pred))"
   ]
  },
  {
   "cell_type": "code",
   "execution_count": 41,
   "id": "e1fafff1",
   "metadata": {
    "scrolled": false
   },
   "outputs": [
    {
     "data": {
      "image/png": "[encoded data removed]",
      "text/plain": [
       "<Figure size 432x288 with 2 Axes>"
      ]
     },
     "metadata": {
      "needs_background": "light"
     },
     "output_type": "display_data"
    }
   ],
   "source": [
    "import matplotlib.pyplot as plt\n",
    "\n",
    "# creating the confusion matrix\n",
    "sns.heatmap(cm, annot = True, fmt = 'd')\n",
    "plt.xlabel('Predicted')\n",
    "plt.ylabel('Actual');"
   ]
  },
  {
   "cell_type": "markdown",
   "id": "abea4b04",
   "metadata": {},
   "source": [
    "**Test the model** "
   ]
  },
  {
   "cell_type": "code",
   "execution_count": 42,
   "id": "f9c4d87e",
   "metadata": {},
   "outputs": [],
   "source": [
    "POSITIVE = \"POSITIVE\"\n",
    "NEGATIVE = \"NEGATIVE\""
   ]
  },
  {
   "cell_type": "code",
   "execution_count": 43,
   "id": "429d4ec2",
   "metadata": {
    "scrolled": true
   },
   "outputs": [],
   "source": [
    "def decode_sentiment(score):\n",
    "    return NEGATIVE if score < 0.5 else POSITIVE"
   ]
  },
  {
   "cell_type": "code",
   "execution_count": 44,
   "id": "95fd7aa4",
   "metadata": {},
   "outputs": [],
   "source": [
    "def predict(text):\n",
    "    print(text)\n",
    "    start_at = time.time()\n",
    "    # Tokenize text\n",
    "    X_test = pad_sequences(tokenizer.texts_to_sequences([text]), maxlen=max_sequence_length)\n",
    "    # Predict\n",
    "    score = model.predict([X_test])[0]\n",
    "    # Decode sentiment\n",
    "    label = decode_sentiment(score)\n",
    "\n",
    "    return {\"label\": label, \"score\": float(score),\n",
    "       \"elapsed_time\": time.time()-start_at} "
   ]
  },
  {
   "cell_type": "code",
   "execution_count": 45,
   "id": "1faa00c6",
   "metadata": {
    "scrolled": true
   },
   "outputs": [
    {
     "name": "stdout",
     "output_type": "stream",
     "text": [
      "The movie was aweful\n"
     ]
    },
    {
     "data": {
      "text/plain": [
       "{'label': 'NEGATIVE',\n",
       " 'score': 0.29073530435562134,\n",
       " 'elapsed_time': 0.5451061725616455}"
      ]
     },
     "execution_count": 45,
     "metadata": {},
     "output_type": "execute_result"
    }
   ],
   "source": [
    "predict(\"The movie was aweful\")"
   ]
  },
  {
   "cell_type": "code",
   "execution_count": 46,
   "id": "2e4772ee",
   "metadata": {
    "scrolled": false
   },
   "outputs": [
    {
     "name": "stdout",
     "output_type": "stream",
     "text": [
      "The film was creative and surprising\n"
     ]
    },
    {
     "data": {
      "text/plain": [
       "{'label': 'NEGATIVE',\n",
       " 'score': 0.2878117561340332,\n",
       " 'elapsed_time': 0.0658869743347168}"
      ]
     },
     "execution_count": 46,
     "metadata": {},
     "output_type": "execute_result"
    }
   ],
   "source": [
    "predict(\"The film was creative and surprising\")"
   ]
  },
  {
   "cell_type": "markdown",
   "id": "8c24c6bf",
   "metadata": {},
   "source": [
    "### BiLSTM model from scratch"
   ]
  },
  {
   "cell_type": "code",
   "execution_count": 47,
   "id": "03be3d51",
   "metadata": {},
   "outputs": [],
   "source": [
    "embedding_dim = 100"
   ]
  },
  {
   "cell_type": "code",
   "execution_count": 48,
   "id": "edf17532",
   "metadata": {},
   "outputs": [],
   "source": [
    "model2 = Sequential()\n",
    "model2.add(Embedding(vocabulary_size, embedding_dim, input_length=max_sequence_length))\n",
    "model2.add(Dropout(0.2))\n",
    "model2.add(Bidirectional(LSTM(64, dropout=0.2, recurrent_dropout=0.2)))\n",
    "model2.add(Dense(1, activation='sigmoid'))"
   ]
  },
  {
   "cell_type": "code",
   "execution_count": 49,
   "id": "5bdf9a0f",
   "metadata": {},
   "outputs": [],
   "source": [
    "model2.compile(optimizer='adam', loss='binary_crossentropy', metrics=['accuracy'])"
   ]
  },
  {
   "cell_type": "code",
   "execution_count": 50,
   "id": "bac3f2cf",
   "metadata": {
    "scrolled": true
   },
   "outputs": [
    {
     "name": "stdout",
     "output_type": "stream",
     "text": [
      "Epoch 1/15\n",
      "1517/1517 [==============================] - 253s 163ms/step - loss: 0.6215 - accuracy: 0.6473 - val_loss: 0.5758 - val_accuracy: 0.6973 - lr: 0.0010\n",
      "Epoch 2/15\n",
      "1517/1517 [==============================] - 250s 165ms/step - loss: 0.4775 - accuracy: 0.7655 - val_loss: 0.5761 - val_accuracy: 0.7015 - lr: 0.0010\n",
      "Epoch 3/15\n",
      "1517/1517 [==============================] - 257s 170ms/step - loss: 0.3724 - accuracy: 0.8265 - val_loss: 0.6278 - val_accuracy: 0.6949 - lr: 0.0010\n",
      "Epoch 4/15\n",
      "1517/1517 [==============================] - 1923s 1s/step - loss: 0.2945 - accuracy: 0.8626 - val_loss: 0.7326 - val_accuracy: 0.6850 - lr: 0.0010\n",
      "Epoch 5/15\n",
      "1517/1517 [==============================] - 302s 199ms/step - loss: 0.2374 - accuracy: 0.8908 - val_loss: 0.9556 - val_accuracy: 0.6785 - lr: 0.0010\n",
      "Epoch 6/15\n",
      "1517/1517 [==============================] - 295s 194ms/step - loss: 0.1916 - accuracy: 0.9120 - val_loss: 1.0296 - val_accuracy: 0.6787 - lr: 0.0010\n",
      "Epoch 7/15\n",
      "1517/1517 [==============================] - 282s 186ms/step - loss: 0.1556 - accuracy: 0.9288 - val_loss: 1.1408 - val_accuracy: 0.6714 - lr: 0.0010\n",
      "Epoch 8/15\n",
      "1517/1517 [==============================] - 286s 188ms/step - loss: 0.1313 - accuracy: 0.9402 - val_loss: 1.4411 - val_accuracy: 0.6718 - lr: 0.0010\n",
      "Epoch 9/15\n",
      "1517/1517 [==============================] - 304s 200ms/step - loss: 0.1109 - accuracy: 0.9483 - val_loss: 1.4040 - val_accuracy: 0.6731 - lr: 0.0010\n",
      "Epoch 10/15\n",
      "1517/1517 [==============================] - 290s 191ms/step - loss: 0.0972 - accuracy: 0.9555 - val_loss: 1.5579 - val_accuracy: 0.6648 - lr: 0.0010\n",
      "Epoch 11/15\n",
      "1517/1517 [==============================] - 295s 195ms/step - loss: 0.0848 - accuracy: 0.9617 - val_loss: 1.8514 - val_accuracy: 0.6679 - lr: 0.0010\n",
      "Epoch 11: early stopping\n"
     ]
    }
   ],
   "source": [
    "history=model2.fit(X_train, y_train, epochs=15, validation_data=(X_test, y_test), callbacks=[es, reduce_lr])"
   ]
  },
  {
   "cell_type": "code",
   "execution_count": 51,
   "id": "07041d08",
   "metadata": {
    "scrolled": false
   },
   "outputs": [
    {
     "data": {
      "image/png": "[encoded data removed]",
      "text/plain": [
       "<Figure size 432x288 with 1 Axes>"
      ]
     },
     "metadata": {
      "needs_background": "light"
     },
     "output_type": "display_data"
    },
    {
     "data": {
      "image/png": "[encoded data removed]",
      "text/plain": [
       "<Figure size 432x288 with 1 Axes>"
      ]
     },
     "metadata": {
      "needs_background": "light"
     },
     "output_type": "display_data"
    }
   ],
   "source": [
    "#Plot the leaning curves\n",
    "plt.plot(history.history['accuracy'], label='Train acc')\n",
    "plt.plot(history.history['val_accuracy'], label='Val acc')\n",
    "plt.legend()\n",
    "plt.show()\n",
    "\n",
    "plt.plot(history.history['loss'], label='Train loss')\n",
    "plt.plot(history.history['val_loss'], label='Val loss')\n",
    "plt.legend()\n",
    "plt.show()"
   ]
  },
  {
   "cell_type": "code",
   "execution_count": 52,
   "id": "027b6baf",
   "metadata": {
    "scrolled": true
   },
   "outputs": [
    {
     "name": "stdout",
     "output_type": "stream",
     "text": [
      "506/506 [==============================] - 9s 18ms/step - loss: 1.8514 - accuracy: 0.6679\n",
      "Accuracy: 66.79%\n"
     ]
    }
   ],
   "source": [
    "scores = model2.evaluate(X_test, y_test, verbose=1)\n",
    "print(\"Accuracy: %.2f%%\" % (scores[1] * 100))"
   ]
  },
  {
   "cell_type": "code",
   "execution_count": 53,
   "id": "290c5d70",
   "metadata": {},
   "outputs": [],
   "source": [
    "def predict(text):\n",
    "    print(text)\n",
    "    start_at = time.time()\n",
    "    # Tokenize text\n",
    "    X_test = pad_sequences(tokenizer.texts_to_sequences([text]), maxlen=max_sequence_length)\n",
    "    # Predict\n",
    "    score = model2.predict([X_test])[0]\n",
    "    # Decode sentiment\n",
    "    label = decode_sentiment(score)\n",
    "\n",
    "    return {\"label\": label, \"score\": float(score),\n",
    "       \"elapsed_time\": time.time()-start_at} "
   ]
  },
  {
   "cell_type": "code",
   "execution_count": 54,
   "id": "6dad97d7",
   "metadata": {
    "scrolled": true
   },
   "outputs": [
    {
     "name": "stdout",
     "output_type": "stream",
     "text": [
      "That movie was absolutely awful\n"
     ]
    },
    {
     "data": {
      "text/plain": [
       "{'label': 'NEGATIVE',\n",
       " 'score': 0.3844073414802551,\n",
       " 'elapsed_time': 0.6727111339569092}"
      ]
     },
     "execution_count": 54,
     "metadata": {},
     "output_type": "execute_result"
    }
   ],
   "source": [
    "predict(\"That movie was absolutely awful\")"
   ]
  },
  {
   "cell_type": "code",
   "execution_count": 55,
   "id": "590dc4d7",
   "metadata": {
    "scrolled": true
   },
   "outputs": [
    {
     "name": "stdout",
     "output_type": "stream",
     "text": [
      "The film was creative and surprising\n"
     ]
    },
    {
     "data": {
      "text/plain": [
       "{'label': 'NEGATIVE',\n",
       " 'score': 0.37460774183273315,\n",
       " 'elapsed_time': 0.07277679443359375}"
      ]
     },
     "execution_count": 55,
     "metadata": {},
     "output_type": "execute_result"
    }
   ],
   "source": [
    "predict(\"The film was creative and surprising\")"
   ]
  },
  {
   "cell_type": "code",
   "execution_count": null,
   "id": "261283e6",
   "metadata": {},
   "outputs": [],
   "source": []
  }
 ],
 "metadata": {
  "kernelspec": {
   "display_name": "Python 3 (ipykernel)",
   "language": "python",
   "name": "python3"
  },
  "language_info": {
   "codemirror_mode": {
    "name": "ipython",
    "version": 3
   },
   "file_extension": ".py",
   "mimetype": "text/x-python",
   "name": "python",
   "nbconvert_exporter": "python",
   "pygments_lexer": "ipython3",
   "version": "3.8.1"
  }
 },
 "nbformat": 4,
 "nbformat_minor": 5
}
