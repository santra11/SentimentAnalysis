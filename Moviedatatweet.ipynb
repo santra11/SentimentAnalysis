{
 "cells": [
  {
   "cell_type": "markdown",
   "id": "093574ca",
   "metadata": {},
   "source": [
    "#  Movie Sentiment Classifier using fast text embedding(LSTM) vs CNN model  "
   ]
  },
  {
   "cell_type": "code",
   "execution_count": 1,
   "id": "9a8ebc5a",
   "metadata": {},
   "outputs": [],
   "source": [
    "import pandas as pd\n",
    "import numpy as np\n",
    "from matplotlib import pyplot as plt\n",
    "import seaborn as sns\n",
    "import nltk\n",
    "from nltk.corpus import stopwords\n",
    "from nltk.stem import WordNetLemmatizer\n",
    "\n",
    "import codecs\n",
    "from tqdm import tqdm\n",
    "\n",
    "from gensim.models import CoherenceModel\n",
    "from gensim.utils import simple_preprocess\n",
    "import gensim.corpora as corpora\n",
    "import gensim\n",
    "import time\n",
    "import re\n",
    "\n",
    "import nltk\n",
    "from nltk.corpus import stopwords\n",
    "from nltk.stem import SnowballStemmer\n",
    "from nltk.stem import WordNetLemmatizer\n",
    "import sklearn\n",
    "from sklearn.model_selection import train_test_split\n",
    "from tensorflow import keras\n",
    "import tensorflow as tf\n",
    "\n",
    "from tensorflow.keras import layers\n",
    "from keras.preprocessing.sequence import pad_sequences\n",
    "from keras.preprocessing.text import Tokenizer\n",
    "from tensorflow.keras.models import Sequential, Model\n",
    "from tensorflow.keras.layers import LSTM\n",
    "from tensorflow.keras.layers import Dense\n",
    "from tensorflow.keras import Model\n",
    "from keras.layers.embeddings import Embedding\n",
    "from tensorflow.keras.layers import Conv1D, Bidirectional, LSTM, Dense, Input, Dropout, MaxPooling1D, SpatialDropout1D, GlobalMaxPooling1D\n",
    "from tensorflow.keras.callbacks import ModelCheckpoint\n",
    "from tensorflow.keras.optimizers import Adam\n",
    "from tensorflow.keras.optimizers import SGD\n",
    "from tensorflow.keras.callbacks import ReduceLROnPlateau, EarlyStopping"
   ]
  },
  {
   "cell_type": "code",
   "execution_count": 2,
   "id": "4b4b3b9d",
   "metadata": {},
   "outputs": [],
   "source": [
    "df=pd.read_csv('https://raw.githubusercontent.com/arditoibryan/Projects/master/20200602_Twitter_Sentiment_Analysis/movie_review.csv')"
   ]
  },
  {
   "cell_type": "code",
   "execution_count": 3,
   "id": "cd80ae5a",
   "metadata": {
    "scrolled": true
   },
   "outputs": [
    {
     "data": {
      "text/html": [
       "<div>\n",
       "<style scoped>\n",
       "    .dataframe tbody tr th:only-of-type {\n",
       "        vertical-align: middle;\n",
       "    }\n",
       "\n",
       "    .dataframe tbody tr th {\n",
       "        vertical-align: top;\n",
       "    }\n",
       "\n",
       "    .dataframe thead th {\n",
       "        text-align: right;\n",
       "    }\n",
       "</style>\n",
       "<table border=\"1\" class=\"dataframe\">\n",
       "  <thead>\n",
       "    <tr style=\"text-align: right;\">\n",
       "      <th></th>\n",
       "      <th>fold_id</th>\n",
       "      <th>cv_tag</th>\n",
       "      <th>html_id</th>\n",
       "      <th>sent_id</th>\n",
       "      <th>text</th>\n",
       "      <th>tag</th>\n",
       "    </tr>\n",
       "  </thead>\n",
       "  <tbody>\n",
       "    <tr>\n",
       "      <th>0</th>\n",
       "      <td>0</td>\n",
       "      <td>cv000</td>\n",
       "      <td>29590</td>\n",
       "      <td>0</td>\n",
       "      <td>films adapted from comic books have had plenty...</td>\n",
       "      <td>pos</td>\n",
       "    </tr>\n",
       "    <tr>\n",
       "      <th>1</th>\n",
       "      <td>0</td>\n",
       "      <td>cv000</td>\n",
       "      <td>29590</td>\n",
       "      <td>1</td>\n",
       "      <td>for starters , it was created by alan moore ( ...</td>\n",
       "      <td>pos</td>\n",
       "    </tr>\n",
       "    <tr>\n",
       "      <th>2</th>\n",
       "      <td>0</td>\n",
       "      <td>cv000</td>\n",
       "      <td>29590</td>\n",
       "      <td>2</td>\n",
       "      <td>to say moore and campbell thoroughly researche...</td>\n",
       "      <td>pos</td>\n",
       "    </tr>\n",
       "    <tr>\n",
       "      <th>3</th>\n",
       "      <td>0</td>\n",
       "      <td>cv000</td>\n",
       "      <td>29590</td>\n",
       "      <td>3</td>\n",
       "      <td>the book ( or \" graphic novel , \" if you will ...</td>\n",
       "      <td>pos</td>\n",
       "    </tr>\n",
       "    <tr>\n",
       "      <th>4</th>\n",
       "      <td>0</td>\n",
       "      <td>cv000</td>\n",
       "      <td>29590</td>\n",
       "      <td>4</td>\n",
       "      <td>in other words , don't dismiss this film becau...</td>\n",
       "      <td>pos</td>\n",
       "    </tr>\n",
       "  </tbody>\n",
       "</table>\n",
       "</div>"
      ],
      "text/plain": [
       "   fold_id cv_tag  html_id  sent_id  \\\n",
       "0        0  cv000    29590        0   \n",
       "1        0  cv000    29590        1   \n",
       "2        0  cv000    29590        2   \n",
       "3        0  cv000    29590        3   \n",
       "4        0  cv000    29590        4   \n",
       "\n",
       "                                                text  tag  \n",
       "0  films adapted from comic books have had plenty...  pos  \n",
       "1  for starters , it was created by alan moore ( ...  pos  \n",
       "2  to say moore and campbell thoroughly researche...  pos  \n",
       "3  the book ( or \" graphic novel , \" if you will ...  pos  \n",
       "4  in other words , don't dismiss this film becau...  pos  "
      ]
     },
     "execution_count": 3,
     "metadata": {},
     "output_type": "execute_result"
    }
   ],
   "source": [
    "df.head()"
   ]
  },
  {
   "cell_type": "code",
   "execution_count": 4,
   "id": "2f5df2c5",
   "metadata": {},
   "outputs": [
    {
     "data": {
      "text/plain": [
       "(64720, 6)"
      ]
     },
     "execution_count": 4,
     "metadata": {},
     "output_type": "execute_result"
    }
   ],
   "source": [
    "df.shape"
   ]
  },
  {
   "cell_type": "code",
   "execution_count": 5,
   "id": "8af02c58",
   "metadata": {
    "scrolled": false
   },
   "outputs": [
    {
     "data": {
      "text/plain": [
       "pos    32937\n",
       "neg    31783\n",
       "Name: tag, dtype: int64"
      ]
     },
     "execution_count": 5,
     "metadata": {},
     "output_type": "execute_result"
    }
   ],
   "source": [
    "df['tag'].value_counts()"
   ]
  },
  {
   "cell_type": "markdown",
   "id": "a3507e95",
   "metadata": {},
   "source": [
    "Tags are the target in our dataset where 'pos' stands for positive and 'neg' is negative. We drop the columns which are not required."
   ]
  },
  {
   "cell_type": "code",
   "execution_count": 6,
   "id": "79453d6b",
   "metadata": {},
   "outputs": [],
   "source": [
    "df = df.drop(['fold_id', 'cv_tag', 'html_id', 'sent_id'], axis=1)"
   ]
  },
  {
   "cell_type": "code",
   "execution_count": 7,
   "id": "017f06fc",
   "metadata": {
    "scrolled": true
   },
   "outputs": [
    {
     "data": {
      "text/html": [
       "<div>\n",
       "<style scoped>\n",
       "    .dataframe tbody tr th:only-of-type {\n",
       "        vertical-align: middle;\n",
       "    }\n",
       "\n",
       "    .dataframe tbody tr th {\n",
       "        vertical-align: top;\n",
       "    }\n",
       "\n",
       "    .dataframe thead th {\n",
       "        text-align: right;\n",
       "    }\n",
       "</style>\n",
       "<table border=\"1\" class=\"dataframe\">\n",
       "  <thead>\n",
       "    <tr style=\"text-align: right;\">\n",
       "      <th></th>\n",
       "      <th>text</th>\n",
       "      <th>tag</th>\n",
       "    </tr>\n",
       "  </thead>\n",
       "  <tbody>\n",
       "    <tr>\n",
       "      <th>0</th>\n",
       "      <td>films adapted from comic books have had plenty...</td>\n",
       "      <td>pos</td>\n",
       "    </tr>\n",
       "    <tr>\n",
       "      <th>1</th>\n",
       "      <td>for starters , it was created by alan moore ( ...</td>\n",
       "      <td>pos</td>\n",
       "    </tr>\n",
       "    <tr>\n",
       "      <th>2</th>\n",
       "      <td>to say moore and campbell thoroughly researche...</td>\n",
       "      <td>pos</td>\n",
       "    </tr>\n",
       "    <tr>\n",
       "      <th>3</th>\n",
       "      <td>the book ( or \" graphic novel , \" if you will ...</td>\n",
       "      <td>pos</td>\n",
       "    </tr>\n",
       "    <tr>\n",
       "      <th>4</th>\n",
       "      <td>in other words , don't dismiss this film becau...</td>\n",
       "      <td>pos</td>\n",
       "    </tr>\n",
       "  </tbody>\n",
       "</table>\n",
       "</div>"
      ],
      "text/plain": [
       "                                                text  tag\n",
       "0  films adapted from comic books have had plenty...  pos\n",
       "1  for starters , it was created by alan moore ( ...  pos\n",
       "2  to say moore and campbell thoroughly researche...  pos\n",
       "3  the book ( or \" graphic novel , \" if you will ...  pos\n",
       "4  in other words , don't dismiss this film becau...  pos"
      ]
     },
     "execution_count": 7,
     "metadata": {},
     "output_type": "execute_result"
    }
   ],
   "source": [
    "df.head()"
   ]
  },
  {
   "cell_type": "code",
   "execution_count": 8,
   "id": "7583251e",
   "metadata": {},
   "outputs": [],
   "source": [
    "df.columns = ['tweets', 'sentiment']"
   ]
  },
  {
   "cell_type": "code",
   "execution_count": 9,
   "id": "7e113245",
   "metadata": {
    "scrolled": true
   },
   "outputs": [
    {
     "data": {
      "text/html": [
       "<div>\n",
       "<style scoped>\n",
       "    .dataframe tbody tr th:only-of-type {\n",
       "        vertical-align: middle;\n",
       "    }\n",
       "\n",
       "    .dataframe tbody tr th {\n",
       "        vertical-align: top;\n",
       "    }\n",
       "\n",
       "    .dataframe thead th {\n",
       "        text-align: right;\n",
       "    }\n",
       "</style>\n",
       "<table border=\"1\" class=\"dataframe\">\n",
       "  <thead>\n",
       "    <tr style=\"text-align: right;\">\n",
       "      <th></th>\n",
       "      <th>tweets</th>\n",
       "      <th>sentiment</th>\n",
       "    </tr>\n",
       "  </thead>\n",
       "  <tbody>\n",
       "    <tr>\n",
       "      <th>0</th>\n",
       "      <td>films adapted from comic books have had plenty...</td>\n",
       "      <td>pos</td>\n",
       "    </tr>\n",
       "    <tr>\n",
       "      <th>1</th>\n",
       "      <td>for starters , it was created by alan moore ( ...</td>\n",
       "      <td>pos</td>\n",
       "    </tr>\n",
       "    <tr>\n",
       "      <th>2</th>\n",
       "      <td>to say moore and campbell thoroughly researche...</td>\n",
       "      <td>pos</td>\n",
       "    </tr>\n",
       "    <tr>\n",
       "      <th>3</th>\n",
       "      <td>the book ( or \" graphic novel , \" if you will ...</td>\n",
       "      <td>pos</td>\n",
       "    </tr>\n",
       "    <tr>\n",
       "      <th>4</th>\n",
       "      <td>in other words , don't dismiss this film becau...</td>\n",
       "      <td>pos</td>\n",
       "    </tr>\n",
       "  </tbody>\n",
       "</table>\n",
       "</div>"
      ],
      "text/plain": [
       "                                              tweets sentiment\n",
       "0  films adapted from comic books have had plenty...       pos\n",
       "1  for starters , it was created by alan moore ( ...       pos\n",
       "2  to say moore and campbell thoroughly researche...       pos\n",
       "3  the book ( or \" graphic novel , \" if you will ...       pos\n",
       "4  in other words , don't dismiss this film becau...       pos"
      ]
     },
     "execution_count": 9,
     "metadata": {},
     "output_type": "execute_result"
    }
   ],
   "source": [
    "df.head()"
   ]
  },
  {
   "cell_type": "code",
   "execution_count": 10,
   "id": "6729acdd",
   "metadata": {
    "scrolled": true
   },
   "outputs": [
    {
     "data": {
      "image/png": "[encoded data removed]",
      "text/plain": [
       "<Figure size 432x288 with 1 Axes>"
      ]
     },
     "metadata": {
      "needs_background": "light"
     },
     "output_type": "display_data"
    }
   ],
   "source": [
    "sns.countplot(x=\"sentiment\", data=df);"
   ]
  },
  {
   "cell_type": "code",
   "execution_count": 11,
   "id": "a1ee239b",
   "metadata": {
    "scrolled": false
   },
   "outputs": [],
   "source": [
    "# change sentiment value to either 0 or 1\n",
    "df['sentiment'] = [1 if s=='pos' else 0 for s in df['sentiment']]"
   ]
  },
  {
   "cell_type": "code",
   "execution_count": 12,
   "id": "aa37c7c4",
   "metadata": {
    "scrolled": false
   },
   "outputs": [
    {
     "data": {
      "text/html": [
       "<div>\n",
       "<style scoped>\n",
       "    .dataframe tbody tr th:only-of-type {\n",
       "        vertical-align: middle;\n",
       "    }\n",
       "\n",
       "    .dataframe tbody tr th {\n",
       "        vertical-align: top;\n",
       "    }\n",
       "\n",
       "    .dataframe thead th {\n",
       "        text-align: right;\n",
       "    }\n",
       "</style>\n",
       "<table border=\"1\" class=\"dataframe\">\n",
       "  <thead>\n",
       "    <tr style=\"text-align: right;\">\n",
       "      <th></th>\n",
       "      <th>tweets</th>\n",
       "      <th>sentiment</th>\n",
       "    </tr>\n",
       "  </thead>\n",
       "  <tbody>\n",
       "    <tr>\n",
       "      <th>0</th>\n",
       "      <td>films adapted from comic books have had plenty...</td>\n",
       "      <td>1</td>\n",
       "    </tr>\n",
       "    <tr>\n",
       "      <th>1</th>\n",
       "      <td>for starters , it was created by alan moore ( ...</td>\n",
       "      <td>1</td>\n",
       "    </tr>\n",
       "    <tr>\n",
       "      <th>2</th>\n",
       "      <td>to say moore and campbell thoroughly researche...</td>\n",
       "      <td>1</td>\n",
       "    </tr>\n",
       "    <tr>\n",
       "      <th>3</th>\n",
       "      <td>the book ( or \" graphic novel , \" if you will ...</td>\n",
       "      <td>1</td>\n",
       "    </tr>\n",
       "    <tr>\n",
       "      <th>4</th>\n",
       "      <td>in other words , don't dismiss this film becau...</td>\n",
       "      <td>1</td>\n",
       "    </tr>\n",
       "  </tbody>\n",
       "</table>\n",
       "</div>"
      ],
      "text/plain": [
       "                                              tweets  sentiment\n",
       "0  films adapted from comic books have had plenty...          1\n",
       "1  for starters , it was created by alan moore ( ...          1\n",
       "2  to say moore and campbell thoroughly researche...          1\n",
       "3  the book ( or \" graphic novel , \" if you will ...          1\n",
       "4  in other words , don't dismiss this film becau...          1"
      ]
     },
     "execution_count": 12,
     "metadata": {},
     "output_type": "execute_result"
    }
   ],
   "source": [
    "df.head()"
   ]
  },
  {
   "cell_type": "code",
   "execution_count": 13,
   "id": "574ac91f",
   "metadata": {},
   "outputs": [],
   "source": [
    "df_preprocess = df.copy()"
   ]
  },
  {
   "cell_type": "code",
   "execution_count": 14,
   "id": "b86ab598",
   "metadata": {
    "scrolled": false
   },
   "outputs": [
    {
     "data": {
      "image/png": "[encoded data removed]",
      "text/plain": [
       "<Figure size 432x288 with 1 Axes>"
      ]
     },
     "metadata": {
      "needs_background": "light"
     },
     "output_type": "display_data"
    }
   ],
   "source": [
    "# get length of all the messages in the data set\n",
    "seq_len = [len(i.split()) for i in df['tweets']]\n",
    "\n",
    "pd.Series(seq_len).hist();"
   ]
  },
  {
   "cell_type": "code",
   "execution_count": 15,
   "id": "4e8b0449",
   "metadata": {
    "scrolled": true
   },
   "outputs": [
    {
     "data": {
      "text/plain": [
       "0    films adapted from comic books have had plenty...\n",
       "1    for starters , it was created by alan moore ( ...\n",
       "2    to say moore and campbell thoroughly researche...\n",
       "3    the book ( or \" graphic novel , \" if you will ...\n",
       "4    in other words , don't dismiss this film becau...\n",
       "Name: tweets, dtype: object"
      ]
     },
     "execution_count": 15,
     "metadata": {},
     "output_type": "execute_result"
    }
   ],
   "source": [
    "tweets = df_preprocess.tweets\n",
    "tweets.head()"
   ]
  },
  {
   "cell_type": "code",
   "execution_count": 16,
   "id": "5a815555",
   "metadata": {},
   "outputs": [],
   "source": [
    "stop_words = stopwords.words('english')\n",
    "stemmer = SnowballStemmer('english')\n",
    "\n",
    "text_cleaning_re = \"@\\S+|https?:\\S+|http?:\\S|[^A-Za-z0-9]+\""
   ]
  },
  {
   "cell_type": "code",
   "execution_count": 17,
   "id": "3da43ed3",
   "metadata": {},
   "outputs": [],
   "source": [
    "def preprocess(text, stem=False):\n",
    "  text = re.sub(text_cleaning_re, ' ', str(text).lower()).strip()\n",
    "  tokens = []\n",
    "  for token in text.split():\n",
    "    if token not in stop_words:\n",
    "      if stem:\n",
    "        tokens.append(stemmer.stem(token))\n",
    "      else:\n",
    "        tokens.append(token)\n",
    "  return \" \".join(tokens)"
   ]
  },
  {
   "cell_type": "code",
   "execution_count": 18,
   "id": "4c54c8ac",
   "metadata": {
    "scrolled": false
   },
   "outputs": [],
   "source": [
    "df_preprocess.tweets = df_preprocess.tweets.apply(lambda x: preprocess(x))"
   ]
  },
  {
   "cell_type": "code",
   "execution_count": 19,
   "id": "d51a68a2",
   "metadata": {},
   "outputs": [],
   "source": [
    "df_preprocess= df_preprocess[['tweets', 'sentiment']]"
   ]
  },
  {
   "cell_type": "code",
   "execution_count": 20,
   "id": "a0c8c0b1",
   "metadata": {
    "scrolled": true
   },
   "outputs": [
    {
     "data": {
      "text/html": [
       "<div>\n",
       "<style scoped>\n",
       "    .dataframe tbody tr th:only-of-type {\n",
       "        vertical-align: middle;\n",
       "    }\n",
       "\n",
       "    .dataframe tbody tr th {\n",
       "        vertical-align: top;\n",
       "    }\n",
       "\n",
       "    .dataframe thead th {\n",
       "        text-align: right;\n",
       "    }\n",
       "</style>\n",
       "<table border=\"1\" class=\"dataframe\">\n",
       "  <thead>\n",
       "    <tr style=\"text-align: right;\">\n",
       "      <th></th>\n",
       "      <th>tweets</th>\n",
       "      <th>sentiment</th>\n",
       "    </tr>\n",
       "  </thead>\n",
       "  <tbody>\n",
       "    <tr>\n",
       "      <th>0</th>\n",
       "      <td>films adapted comic books plenty success wheth...</td>\n",
       "      <td>1</td>\n",
       "    </tr>\n",
       "    <tr>\n",
       "      <th>1</th>\n",
       "      <td>starters created alan moore eddie campbell bro...</td>\n",
       "      <td>1</td>\n",
       "    </tr>\n",
       "    <tr>\n",
       "      <th>2</th>\n",
       "      <td>say moore campbell thoroughly researched subje...</td>\n",
       "      <td>1</td>\n",
       "    </tr>\n",
       "    <tr>\n",
       "      <th>3</th>\n",
       "      <td>book graphic novel 500 pages long includes nea...</td>\n",
       "      <td>1</td>\n",
       "    </tr>\n",
       "    <tr>\n",
       "      <th>4</th>\n",
       "      <td>words dismiss film source</td>\n",
       "      <td>1</td>\n",
       "    </tr>\n",
       "  </tbody>\n",
       "</table>\n",
       "</div>"
      ],
      "text/plain": [
       "                                              tweets  sentiment\n",
       "0  films adapted comic books plenty success wheth...          1\n",
       "1  starters created alan moore eddie campbell bro...          1\n",
       "2  say moore campbell thoroughly researched subje...          1\n",
       "3  book graphic novel 500 pages long includes nea...          1\n",
       "4                          words dismiss film source          1"
      ]
     },
     "execution_count": 20,
     "metadata": {},
     "output_type": "execute_result"
    }
   ],
   "source": [
    "df_preprocess.head()"
   ]
  },
  {
   "cell_type": "code",
   "execution_count": 21,
   "id": "b785c801",
   "metadata": {
    "scrolled": true
   },
   "outputs": [
    {
     "data": {
      "text/plain": [
       "1    32937\n",
       "0    31783\n",
       "Name: sentiment, dtype: int64"
      ]
     },
     "execution_count": 21,
     "metadata": {},
     "output_type": "execute_result"
    }
   ],
   "source": [
    "df_preprocess['sentiment'].value_counts()"
   ]
  },
  {
   "cell_type": "code",
   "execution_count": 22,
   "id": "e0db19df",
   "metadata": {},
   "outputs": [
    {
     "data": {
      "text/html": [
       "<div>\n",
       "<style scoped>\n",
       "    .dataframe tbody tr th:only-of-type {\n",
       "        vertical-align: middle;\n",
       "    }\n",
       "\n",
       "    .dataframe tbody tr th {\n",
       "        vertical-align: top;\n",
       "    }\n",
       "\n",
       "    .dataframe thead th {\n",
       "        text-align: right;\n",
       "    }\n",
       "</style>\n",
       "<table border=\"1\" class=\"dataframe\">\n",
       "  <thead>\n",
       "    <tr style=\"text-align: right;\">\n",
       "      <th></th>\n",
       "      <th>tweet</th>\n",
       "      <th>sentiment</th>\n",
       "    </tr>\n",
       "  </thead>\n",
       "  <tbody>\n",
       "    <tr>\n",
       "      <th>0</th>\n",
       "      <td>films adapted comic books plenty success wheth...</td>\n",
       "      <td>1</td>\n",
       "    </tr>\n",
       "    <tr>\n",
       "      <th>1</th>\n",
       "      <td>starters created alan moore eddie campbell bro...</td>\n",
       "      <td>1</td>\n",
       "    </tr>\n",
       "    <tr>\n",
       "      <th>2</th>\n",
       "      <td>say moore campbell thoroughly researched subje...</td>\n",
       "      <td>1</td>\n",
       "    </tr>\n",
       "    <tr>\n",
       "      <th>3</th>\n",
       "      <td>book graphic novel 500 pages long includes nea...</td>\n",
       "      <td>1</td>\n",
       "    </tr>\n",
       "    <tr>\n",
       "      <th>4</th>\n",
       "      <td>words dismiss film source</td>\n",
       "      <td>1</td>\n",
       "    </tr>\n",
       "  </tbody>\n",
       "</table>\n",
       "</div>"
      ],
      "text/plain": [
       "                                               tweet  sentiment\n",
       "0  films adapted comic books plenty success wheth...          1\n",
       "1  starters created alan moore eddie campbell bro...          1\n",
       "2  say moore campbell thoroughly researched subje...          1\n",
       "3  book graphic novel 500 pages long includes nea...          1\n",
       "4                          words dismiss film source          1"
      ]
     },
     "execution_count": 22,
     "metadata": {},
     "output_type": "execute_result"
    }
   ],
   "source": [
    "df_preprocess= df_preprocess.rename(columns={'tweets': 'tweet', 'sentiment': 'sentiment'})\n",
    "df_preprocess.head()"
   ]
  },
  {
   "cell_type": "markdown",
   "id": "0659d85c",
   "metadata": {},
   "source": [
    "The dataset is balanced"
   ]
  },
  {
   "cell_type": "code",
   "execution_count": 23,
   "id": "78adcfcc",
   "metadata": {},
   "outputs": [
    {
     "name": "stdout",
     "output_type": "stream",
     "text": [
      "Vocabulary Size : 39245\n"
     ]
    }
   ],
   "source": [
    "# Utilize the keras tokenizer\n",
    "tokenizer = Tokenizer()\n",
    "tokenizer.fit_on_texts(df_preprocess.tweet)\n",
    "\n",
    "word_index = tokenizer.word_index\n",
    "vocabulary_size = len(tokenizer.word_index) + 1\n",
    "print(\"Vocabulary Size :\", vocabulary_size)"
   ]
  },
  {
   "cell_type": "markdown",
   "id": "9fdd2f97",
   "metadata": {},
   "source": [
    "### Fast Text Embedding & Utilize Pretrained models"
   ]
  },
  {
   "cell_type": "code",
   "execution_count": 24,
   "id": "d689a4ca",
   "metadata": {},
   "outputs": [],
   "source": [
    "FASTEXT_EMB = 'wiki-news-300d-1M.vec'\n",
    "EMBEDDING_DIM = 300"
   ]
  },
  {
   "cell_type": "code",
   "execution_count": 25,
   "id": "472309e6",
   "metadata": {
    "scrolled": true
   },
   "outputs": [
    {
     "name": "stderr",
     "output_type": "stream",
     "text": [
      "999995it [01:52, 8862.53it/s]"
     ]
    },
    {
     "name": "stdout",
     "output_type": "stream",
     "text": [
      "found 999995 word vectors\n"
     ]
    },
    {
     "name": "stderr",
     "output_type": "stream",
     "text": [
      "\n"
     ]
    }
   ],
   "source": [
    "embeddings_index = {}\n",
    "f = codecs.open('wiki-news-300d-1M.vec', encoding='utf-8')\n",
    "for line in tqdm(f):\n",
    "    values = line.rstrip().rsplit(' ')\n",
    "    word = values[0]\n",
    "    coefs = np.asarray(values[1:], dtype='float32')\n",
    "    embeddings_index[word] = coefs\n",
    "f.close()\n",
    "print('found %s word vectors' % len(embeddings_index))"
   ]
  },
  {
   "cell_type": "code",
   "execution_count": 26,
   "id": "3b0e514d",
   "metadata": {},
   "outputs": [],
   "source": [
    "embedding_matrix = np.zeros((vocabulary_size, EMBEDDING_DIM))\n",
    "for word, i in word_index.items():\n",
    "  embedding_vector = embeddings_index.get(word)\n",
    "  if embedding_vector is not None:\n",
    "    embedding_matrix[i] = embedding_vector"
   ]
  },
  {
   "cell_type": "code",
   "execution_count": 27,
   "id": "dc695709",
   "metadata": {},
   "outputs": [],
   "source": [
    "encoded_text=tokenizer.texts_to_sequences(df_preprocess.tweet)"
   ]
  },
  {
   "cell_type": "code",
   "execution_count": 28,
   "id": "253c2513",
   "metadata": {},
   "outputs": [],
   "source": [
    "max_sequence_length = 60\n",
    "X=pad_sequences(encoded_text, maxlen=max_sequence_length, padding='post')\n",
    "y=df_preprocess['sentiment']"
   ]
  },
  {
   "cell_type": "code",
   "execution_count": 29,
   "id": "415ec930",
   "metadata": {},
   "outputs": [],
   "source": [
    "batch_size = 512\n",
    "epoch = 15"
   ]
  },
  {
   "cell_type": "code",
   "execution_count": 30,
   "id": "039b103a",
   "metadata": {
    "scrolled": true
   },
   "outputs": [
    {
     "name": "stdout",
     "output_type": "stream",
     "text": [
      "Train Data size: 48540\n",
      "Test Data size 16180\n"
     ]
    }
   ],
   "source": [
    "X_train, X_test, y_train, y_test = train_test_split(X, y, test_size=0.25, random_state=42)\n",
    "print(\"Train Data size:\", len(X_train))\n",
    "print(\"Test Data size\", len(X_test))"
   ]
  },
  {
   "cell_type": "code",
   "execution_count": 31,
   "id": "d9ea2b3c",
   "metadata": {
    "scrolled": true
   },
   "outputs": [
    {
     "data": {
      "text/plain": [
       "(39245, 300)"
      ]
     },
     "execution_count": 31,
     "metadata": {},
     "output_type": "execute_result"
    }
   ],
   "source": [
    "embedding_matrix.shape"
   ]
  },
  {
   "cell_type": "code",
   "execution_count": 32,
   "id": "e39deb24",
   "metadata": {},
   "outputs": [],
   "source": [
    "embedding_layer = tf.keras.layers.Embedding(vocabulary_size,\n",
    "                                          EMBEDDING_DIM,\n",
    "                                          weights=[embedding_matrix],\n",
    "                                          input_length=max_sequence_length,\n",
    "                                          trainable=False)"
   ]
  },
  {
   "cell_type": "markdown",
   "id": "203eebd5",
   "metadata": {},
   "source": [
    "We also utilize early stopping."
   ]
  },
  {
   "cell_type": "code",
   "execution_count": 33,
   "id": "3c4cc941",
   "metadata": {},
   "outputs": [],
   "source": [
    "es=EarlyStopping(monitor='val_loss', min_delta=0, mode='min', verbose=1, patience=10)\n",
    "\n",
    "reduce_lr = ReduceLROnPlateau(factor=0.1, min_delta=0, min_lr = 0.01, monitor = 'val_loss', verbose = 1)"
   ]
  },
  {
   "cell_type": "markdown",
   "id": "cd4cec1b",
   "metadata": {},
   "source": [
    "### Create a Pretrained bidirectional LSTM model"
   ]
  },
  {
   "cell_type": "markdown",
   "id": "5681a6fc",
   "metadata": {},
   "source": [
    "For creating the model, we use\n",
    "\n",
    "- Embedding Layer - Generates Embedding Vector for each input sequence.\n",
    "\n",
    "- Conv1D Layer - It is used to convolve the data into smaller feature vectors.\n",
    "\n",
    "- LSTM - Long Short Term Memory, its a variant of RNN which has memory state cell to learn the context of words which further along the text carry contextual meaning rather than just neighbouring words as in case of RNN.\n",
    "\n",
    "- Dense - Fully Connected Layers for classification"
   ]
  },
  {
   "cell_type": "code",
   "execution_count": 34,
   "id": "6b64a2ba",
   "metadata": {
    "scrolled": true
   },
   "outputs": [
    {
     "name": "stderr",
     "output_type": "stream",
     "text": [
      "2022-05-17 20:53:12.860770: I tensorflow/core/platform/cpu_feature_guard.cc:151] This TensorFlow binary is optimized with oneAPI Deep Neural Network Library (oneDNN) to use the following CPU instructions in performance-critical operations:  AVX2 FMA\n",
      "To enable them in other operations, rebuild TensorFlow with the appropriate compiler flags.\n"
     ]
    }
   ],
   "source": [
    "inputs = Input(shape=(max_sequence_length,), dtype='int32')\n",
    "x = embedding_layer(inputs)\n",
    "x = SpatialDropout1D(0.2)(x)\n",
    "x = Conv1D(64, 5, activation='relu')(x)\n",
    "x = Bidirectional(LSTM(64, dropout=0.2, recurrent_dropout=0.2))(x)\n",
    "x = Dense(32, activation='relu')(x)\n",
    "x = Dropout(0.3)(x)\n",
    "x = Dense(32, activation='relu')(x)\n",
    "outputs = Dense(1, activation='sigmoid')(x)\n",
    "model = Model(inputs, outputs)"
   ]
  },
  {
   "cell_type": "code",
   "execution_count": 35,
   "id": "af06f85f",
   "metadata": {},
   "outputs": [],
   "source": [
    "model.compile(optimizer=Adam(learning_rate=1e-3), loss='binary_crossentropy',metrics=['accuracy'])"
   ]
  },
  {
   "cell_type": "markdown",
   "id": "cbe4e683",
   "metadata": {},
   "source": [
    "#### Plot the model"
   ]
  },
  {
   "cell_type": "code",
   "execution_count": 36,
   "id": "873a1961",
   "metadata": {
    "scrolled": true
   },
   "outputs": [
    {
     "data": {
      "image/png": "[encoded data removed]",
      "text/plain": [
       "<IPython.core.display.Image object>"
      ]
     },
     "execution_count": 36,
     "metadata": {},
     "output_type": "execute_result"
    }
   ],
   "source": [
    "dot_img_file = 'model_1.png'\n",
    "tf.keras.utils.plot_model(model, to_file=dot_img_file, show_shapes=True)"
   ]
  },
  {
   "cell_type": "code",
   "execution_count": 37,
   "id": "3a63cdb5",
   "metadata": {
    "scrolled": false
   },
   "outputs": [
    {
     "name": "stdout",
     "output_type": "stream",
     "text": [
      "Epoch 1/15\n",
      "95/95 [==============================] - 88s 865ms/step - loss: 0.6695 - accuracy: 0.5830 - val_loss: 0.6481 - val_accuracy: 0.6209 - lr: 0.0010\n",
      "Epoch 2/15\n",
      "95/95 [==============================] - 81s 851ms/step - loss: 0.6478 - accuracy: 0.6238 - val_loss: 0.6375 - val_accuracy: 0.6334 - lr: 0.0010\n",
      "Epoch 3/15\n",
      "95/95 [==============================] - 81s 854ms/step - loss: 0.6376 - accuracy: 0.6341 - val_loss: 0.6356 - val_accuracy: 0.6363 - lr: 0.0010\n",
      "Epoch 4/15\n",
      "95/95 [==============================] - 80s 844ms/step - loss: 0.6285 - accuracy: 0.6437 - val_loss: 0.6330 - val_accuracy: 0.6397 - lr: 0.0010\n",
      "Epoch 5/15\n",
      "95/95 [==============================] - 81s 855ms/step - loss: 0.6101 - accuracy: 0.6685 - val_loss: 0.6277 - val_accuracy: 0.6467 - lr: 0.0010\n",
      "Epoch 6/15\n",
      "95/95 [==============================] - 82s 859ms/step - loss: 0.5899 - accuracy: 0.6855 - val_loss: 0.6258 - val_accuracy: 0.6486 - lr: 0.0010\n",
      "Epoch 7/15\n",
      "95/95 [==============================] - 80s 847ms/step - loss: 0.5738 - accuracy: 0.7017 - val_loss: 0.6268 - val_accuracy: 0.6466 - lr: 0.0010\n",
      "Epoch 8/15\n",
      "95/95 [==============================] - 82s 860ms/step - loss: 0.5519 - accuracy: 0.7221 - val_loss: 0.6326 - val_accuracy: 0.6468 - lr: 0.0010\n",
      "Epoch 9/15\n",
      "95/95 [==============================] - 81s 852ms/step - loss: 0.5359 - accuracy: 0.7316 - val_loss: 0.6451 - val_accuracy: 0.6402 - lr: 0.0010\n",
      "Epoch 10/15\n",
      "95/95 [==============================] - 80s 848ms/step - loss: 0.5114 - accuracy: 0.7498 - val_loss: 0.6396 - val_accuracy: 0.6461 - lr: 0.0010\n",
      "Epoch 11/15\n",
      "95/95 [==============================] - 809s 9s/step - loss: 0.4926 - accuracy: 0.7620 - val_loss: 0.6664 - val_accuracy: 0.6341 - lr: 0.0010\n",
      "Epoch 12/15\n",
      "95/95 [==============================] - 83s 871ms/step - loss: 0.4762 - accuracy: 0.7724 - val_loss: 0.6618 - val_accuracy: 0.6411 - lr: 0.0010\n",
      "Epoch 13/15\n",
      "95/95 [==============================] - 83s 871ms/step - loss: 0.4655 - accuracy: 0.7799 - val_loss: 0.6623 - val_accuracy: 0.6448 - lr: 0.0010\n",
      "Epoch 14/15\n",
      "95/95 [==============================] - 81s 851ms/step - loss: 0.4520 - accuracy: 0.7880 - val_loss: 0.6770 - val_accuracy: 0.6422 - lr: 0.0010\n",
      "Epoch 15/15\n",
      "95/95 [==============================] - 81s 857ms/step - loss: 0.4360 - accuracy: 0.7961 - val_loss: 0.6997 - val_accuracy: 0.6362 - lr: 0.0010\n"
     ]
    }
   ],
   "source": [
    "history = model.fit(X_train, y_train, batch_size=batch_size, epochs=epoch,\n",
    "                    validation_data=(X_test, y_test), callbacks= [es, reduce_lr])"
   ]
  },
  {
   "cell_type": "code",
   "execution_count": 38,
   "id": "c53b502c",
   "metadata": {
    "scrolled": true
   },
   "outputs": [
    {
     "data": {
      "image/png": "[encoded data removed]",
      "text/plain": [
       "<Figure size 432x288 with 1 Axes>"
      ]
     },
     "metadata": {
      "needs_background": "light"
     },
     "output_type": "display_data"
    },
    {
     "data": {
      "image/png": "[encoded data removed]",
      "text/plain": [
       "<Figure size 432x288 with 1 Axes>"
      ]
     },
     "metadata": {
      "needs_background": "light"
     },
     "output_type": "display_data"
    }
   ],
   "source": [
    "#Plot the leaning curves\n",
    "plt.plot(history.history['accuracy'], label='Train acc')\n",
    "plt.plot(history.history['val_accuracy'], label='Val acc')\n",
    "plt.legend()\n",
    "plt.show()\n",
    "\n",
    "plt.plot(history.history['loss'], label='Train loss')\n",
    "plt.plot(history.history['val_loss'], label='Val loss')\n",
    "plt.legend()\n",
    "plt.show()"
   ]
  },
  {
   "cell_type": "code",
   "execution_count": 39,
   "id": "19ec1e6a",
   "metadata": {
    "scrolled": true
   },
   "outputs": [
    {
     "name": "stdout",
     "output_type": "stream",
     "text": [
      "506/506 [==============================] - 9s 17ms/step - loss: 0.6997 - accuracy: 0.6362\n",
      "Accuracy: 63.62%\n"
     ]
    }
   ],
   "source": [
    "scores = model.evaluate(X_test, y_test, verbose=1)\n",
    "print(\"Accuracy: %.2f%%\" % (scores[1] * 100))"
   ]
  },
  {
   "cell_type": "code",
   "execution_count": 40,
   "id": "3fba4b98",
   "metadata": {
    "scrolled": false
   },
   "outputs": [
    {
     "name": "stdout",
     "output_type": "stream",
     "text": [
      "[[5863 3764]\n",
      " [2123 4430]]\n",
      "              precision    recall  f1-score   support\n",
      "\n",
      "           0       0.61      0.73      0.67      7986\n",
      "           1       0.68      0.54      0.60      8194\n",
      "\n",
      "    accuracy                           0.64     16180\n",
      "   macro avg       0.64      0.64      0.63     16180\n",
      "weighted avg       0.64      0.64      0.63     16180\n",
      "\n"
     ]
    }
   ],
   "source": [
    "# Predicting on the Test dataset.\n",
    "y_pred = model.predict(X_test)\n",
    "\n",
    "# Converting prediction to reflect the sentiment predicted.\n",
    "y_pred = np.where(y_pred>0.5, 1, 0)\n",
    "\n",
    "# Printing out the Evaluation metrics. \n",
    "from sklearn.metrics import confusion_matrix\n",
    "from sklearn.metrics import classification_report\n",
    "\n",
    "cm = confusion_matrix(y_pred,y_test)\n",
    "print(cm)\n",
    "\n",
    "# Print the evaluation metrics for the dataset.\n",
    "print(classification_report(y_test, y_pred))"
   ]
  },
  {
   "cell_type": "code",
   "execution_count": 41,
   "id": "e1fafff1",
   "metadata": {
    "scrolled": false
   },
   "outputs": [
    {
     "data": {
      "image/png": "[encoded data removed]",
      "text/plain": [
       "<Figure size 432x288 with 2 Axes>"
      ]
     },
     "metadata": {
      "needs_background": "light"
     },
     "output_type": "display_data"
    }
   ],
   "source": [
    "import matplotlib.pyplot as plt\n",
    "\n",
    "# creating a graph out of confusion matrix\n",
    "sns.heatmap(cm, annot = True, fmt = 'd')\n",
    "plt.xlabel('Predicted')\n",
    "plt.ylabel('Actual');"
   ]
  },
  {
   "cell_type": "code",
   "execution_count": 42,
   "id": "f9c4d87e",
   "metadata": {},
   "outputs": [],
   "source": [
    "POSITIVE = \"POSITIVE\"\n",
    "NEGATIVE = \"NEGATIVE\""
   ]
  },
  {
   "cell_type": "code",
   "execution_count": 43,
   "id": "429d4ec2",
   "metadata": {
    "scrolled": true
   },
   "outputs": [],
   "source": [
    "def decode_sentiment(score):\n",
    "    return NEGATIVE if score < 0.5 else POSITIVE"
   ]
  },
  {
   "cell_type": "code",
   "execution_count": 44,
   "id": "95fd7aa4",
   "metadata": {},
   "outputs": [],
   "source": [
    "def predict(text):\n",
    "    print(text)\n",
    "    start_at = time.time()\n",
    "    # Tokenize text\n",
    "    X_test = pad_sequences(tokenizer.texts_to_sequences([text]), maxlen=max_sequence_length)\n",
    "    # Predict\n",
    "    score = model.predict([X_test])[0]\n",
    "    # Decode sentiment\n",
    "    label = decode_sentiment(score)\n",
    "\n",
    "    return {\"label\": label, \"score\": float(score),\n",
    "       \"elapsed_time\": time.time()-start_at} "
   ]
  },
  {
   "cell_type": "code",
   "execution_count": 45,
   "id": "1faa00c6",
   "metadata": {
    "scrolled": false
   },
   "outputs": [
    {
     "name": "stdout",
     "output_type": "stream",
     "text": [
      "The movie was aweful\n"
     ]
    },
    {
     "data": {
      "text/plain": [
       "{'label': 'NEGATIVE',\n",
       " 'score': 0.3214765191078186,\n",
       " 'elapsed_time': 0.5000817775726318}"
      ]
     },
     "execution_count": 45,
     "metadata": {},
     "output_type": "execute_result"
    }
   ],
   "source": [
    "predict(\"The movie was aweful\")"
   ]
  },
  {
   "cell_type": "code",
   "execution_count": 46,
   "id": "2e4772ee",
   "metadata": {
    "scrolled": false
   },
   "outputs": [
    {
     "name": "stdout",
     "output_type": "stream",
     "text": [
      "The film was creative and surprising\n"
     ]
    },
    {
     "data": {
      "text/plain": [
       "{'label': 'NEGATIVE',\n",
       " 'score': 0.416933536529541,\n",
       " 'elapsed_time': 0.07064485549926758}"
      ]
     },
     "execution_count": 46,
     "metadata": {},
     "output_type": "execute_result"
    }
   ],
   "source": [
    "predict(\"The film was creative and surprising\")"
   ]
  },
  {
   "cell_type": "markdown",
   "id": "8c24c6bf",
   "metadata": {},
   "source": [
    "### CNN model from scratch"
   ]
  },
  {
   "cell_type": "code",
   "execution_count": 47,
   "id": "cf9277fc",
   "metadata": {
    "scrolled": true
   },
   "outputs": [],
   "source": [
    "embedding_dim=50\n",
    "\n",
    "model2=Sequential()\n",
    "model2.add(Embedding(vocabulary_size, embedding_dim, input_length=max_sequence_length))\n",
    "model2.add(Conv1D(64, 7, activation='relu'))\n",
    "model2.add(MaxPooling1D(2))\n",
    "model2.add(Dropout(0.5))\n",
    "\n",
    "model2.add(Dense(32, activation='relu'))\n",
    "model2.add(Dropout(0.5))\n",
    "\n",
    "model2.add(Dense(16, activation='relu'))\n",
    "model2.add(Dropout(0.5))\n",
    "model2.add(GlobalMaxPooling1D())\n",
    "model2.add(Dropout(0.5))\n",
    "model2.add(Dense(1, activation='sigmoid'))"
   ]
  },
  {
   "cell_type": "code",
   "execution_count": 48,
   "id": "5bdf9a0f",
   "metadata": {},
   "outputs": [],
   "source": [
    "model2.compile(optimizer='adam', loss='binary_crossentropy', metrics=['accuracy'])"
   ]
  },
  {
   "cell_type": "code",
   "execution_count": 49,
   "id": "bac3f2cf",
   "metadata": {
    "scrolled": true
   },
   "outputs": [
    {
     "name": "stdout",
     "output_type": "stream",
     "text": [
      "Epoch 1/15\n",
      "1517/1517 [==============================] - 57s 37ms/step - loss: 0.6838 - accuracy: 0.5496 - val_loss: 0.6672 - val_accuracy: 0.6204 - lr: 0.0010\n",
      "Epoch 2/15\n",
      "1517/1517 [==============================] - 57s 38ms/step - loss: 0.6130 - accuracy: 0.6718 - val_loss: 0.6233 - val_accuracy: 0.6579 - lr: 0.0010\n",
      "Epoch 3/15\n",
      "1517/1517 [==============================] - 57s 37ms/step - loss: 0.5270 - accuracy: 0.7392 - val_loss: 0.5973 - val_accuracy: 0.6744 - lr: 0.0010\n",
      "Epoch 4/15\n",
      "1517/1517 [==============================] - 56s 37ms/step - loss: 0.4515 - accuracy: 0.7846 - val_loss: 0.5986 - val_accuracy: 0.6718 - lr: 0.0010\n",
      "Epoch 5/15\n",
      "1517/1517 [==============================] - 57s 38ms/step - loss: 0.3845 - accuracy: 0.8197 - val_loss: 0.6370 - val_accuracy: 0.6661 - lr: 0.0010\n",
      "Epoch 6/15\n",
      "1517/1517 [==============================] - 57s 37ms/step - loss: 0.3301 - accuracy: 0.8455 - val_loss: 0.7117 - val_accuracy: 0.6651 - lr: 0.0010\n",
      "Epoch 7/15\n",
      "1517/1517 [==============================] - 57s 38ms/step - loss: 0.2931 - accuracy: 0.8659 - val_loss: 0.8144 - val_accuracy: 0.6663 - lr: 0.0010\n",
      "Epoch 8/15\n",
      "1517/1517 [==============================] - 59s 39ms/step - loss: 0.2654 - accuracy: 0.8785 - val_loss: 0.9116 - val_accuracy: 0.6657 - lr: 0.0010\n",
      "Epoch 9/15\n",
      "1517/1517 [==============================] - 59s 39ms/step - loss: 0.2438 - accuracy: 0.8874 - val_loss: 0.9697 - val_accuracy: 0.6627 - lr: 0.0010\n",
      "Epoch 10/15\n",
      "1517/1517 [==============================] - 59s 39ms/step - loss: 0.2276 - accuracy: 0.8959 - val_loss: 1.1199 - val_accuracy: 0.6657 - lr: 0.0010\n",
      "Epoch 11/15\n",
      "1517/1517 [==============================] - 59s 39ms/step - loss: 0.2156 - accuracy: 0.9026 - val_loss: 1.1359 - val_accuracy: 0.6619 - lr: 0.0010\n",
      "Epoch 12/15\n",
      "1517/1517 [==============================] - 60s 39ms/step - loss: 0.2077 - accuracy: 0.9073 - val_loss: 1.1356 - val_accuracy: 0.6617 - lr: 0.0010\n",
      "Epoch 13/15\n",
      "1517/1517 [==============================] - 60s 40ms/step - loss: 0.1936 - accuracy: 0.9120 - val_loss: 1.3226 - val_accuracy: 0.6573 - lr: 0.0010\n",
      "Epoch 13: early stopping\n"
     ]
    }
   ],
   "source": [
    "history=model2.fit(X_train, y_train, epochs=15, validation_data=(X_test, y_test), callbacks=[es, reduce_lr])"
   ]
  },
  {
   "cell_type": "code",
   "execution_count": 50,
   "id": "07041d08",
   "metadata": {
    "scrolled": true
   },
   "outputs": [
    {
     "data": {
      "image/png": "[encoded data removed]",
      "text/plain": [
       "<Figure size 432x288 with 1 Axes>"
      ]
     },
     "metadata": {
      "needs_background": "light"
     },
     "output_type": "display_data"
    },
    {
     "data": {
      "image/png": "[encoded data removed]",
      "text/plain": [
       "<Figure size 432x288 with 1 Axes>"
      ]
     },
     "metadata": {
      "needs_background": "light"
     },
     "output_type": "display_data"
    }
   ],
   "source": [
    "#Plot the leaning curves\n",
    "plt.plot(history.history['accuracy'], label='Train acc')\n",
    "plt.plot(history.history['val_accuracy'], label='Val acc')\n",
    "plt.legend()\n",
    "plt.show()\n",
    "\n",
    "plt.plot(history.history['loss'], label='Train loss')\n",
    "plt.plot(history.history['val_loss'], label='Val loss')\n",
    "plt.legend()\n",
    "plt.show()"
   ]
  },
  {
   "cell_type": "code",
   "execution_count": 51,
   "id": "027b6baf",
   "metadata": {
    "scrolled": true
   },
   "outputs": [
    {
     "name": "stdout",
     "output_type": "stream",
     "text": [
      "506/506 [==============================] - 2s 3ms/step - loss: 1.3226 - accuracy: 0.6573\n",
      "Accuracy: 65.73%\n"
     ]
    }
   ],
   "source": [
    "scores = model2.evaluate(X_test, y_test, verbose=1)\n",
    "print(\"Accuracy: %.2f%%\" % (scores[1] * 100))"
   ]
  },
  {
   "cell_type": "code",
   "execution_count": 52,
   "id": "290c5d70",
   "metadata": {},
   "outputs": [],
   "source": [
    "def predict(text):\n",
    "    print(text)\n",
    "    start_at = time.time()\n",
    "    # Tokenize text\n",
    "    X_test = pad_sequences(tokenizer.texts_to_sequences([text]), maxlen=max_sequence_length)\n",
    "    # Predict\n",
    "    score = model2.predict([X_test])[0]\n",
    "    # Decode sentiment\n",
    "    label = decode_sentiment(score)\n",
    "\n",
    "    return {\"label\": label, \"score\": float(score),\n",
    "       \"elapsed_time\": time.time()-start_at} "
   ]
  },
  {
   "cell_type": "code",
   "execution_count": 53,
   "id": "6dad97d7",
   "metadata": {
    "scrolled": true
   },
   "outputs": [
    {
     "name": "stdout",
     "output_type": "stream",
     "text": [
      "That movie was absolutely awful\n"
     ]
    },
    {
     "data": {
      "text/plain": [
       "{'label': 'NEGATIVE',\n",
       " 'score': 0.024712592363357544,\n",
       " 'elapsed_time': 0.17551684379577637}"
      ]
     },
     "execution_count": 53,
     "metadata": {},
     "output_type": "execute_result"
    }
   ],
   "source": [
    "predict(\"That movie was absolutely awful\")"
   ]
  },
  {
   "cell_type": "code",
   "execution_count": 54,
   "id": "590dc4d7",
   "metadata": {},
   "outputs": [
    {
     "name": "stdout",
     "output_type": "stream",
     "text": [
      "The film was creative and surprising\n"
     ]
    },
    {
     "data": {
      "text/plain": [
       "{'label': 'NEGATIVE',\n",
       " 'score': 0.3554215729236603,\n",
       " 'elapsed_time': 0.07648396492004395}"
      ]
     },
     "execution_count": 54,
     "metadata": {},
     "output_type": "execute_result"
    }
   ],
   "source": [
    "predict(\"The film was creative and surprising\")"
   ]
  },
  {
   "cell_type": "code",
   "execution_count": null,
   "id": "3c6f9d33",
   "metadata": {},
   "outputs": [],
   "source": []
  }
 ],
 "metadata": {
  "kernelspec": {
   "display_name": "Python 3 (ipykernel)",
   "language": "python",
   "name": "python3"
  },
  "language_info": {
   "codemirror_mode": {
    "name": "ipython",
    "version": 3
   },
   "file_extension": ".py",
   "mimetype": "text/x-python",
   "name": "python",
   "nbconvert_exporter": "python",
   "pygments_lexer": "ipython3",
   "version": "3.8.1"
  }
 },
 "nbformat": 4,
 "nbformat_minor": 5
}
