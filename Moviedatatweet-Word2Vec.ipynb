{
 "cells": [
  {
   "cell_type": "markdown",
   "id": "093574ca",
   "metadata": {},
   "source": [
    "#  Movie Sentiment Classifier using BiLSTM Word2Vec   "
   ]
  },
  {
   "cell_type": "markdown",
   "id": "eb7d892a",
   "metadata": {},
   "source": [
    "Bidirectional long-short term memory(bi-lstm) is the process of making any neural network o have the sequence information in both directions backwards (future to past) or forward(past to future). "
   ]
  },
  {
   "cell_type": "markdown",
   "id": "93174470",
   "metadata": {},
   "source": [
    "Word2Vec is a shallow, two-layer neural networks which is trained to reconstruct linguistic contexts of words. \n",
    "It takes as its input a large corpus of words and produces a vector space, typically of several hundred dimensions, with each unique word in the corpus being assigned a corresponding vector in the space.\n",
    "Word vectors are positioned in the vector space such that words that share common contexts in the corpus are located in close proximity to one another in the space.\n",
    "Word2Vec is a particularly computationally-efficient predictive model for learning word embeddings from raw text."
   ]
  },
  {
   "cell_type": "markdown",
   "id": "f964a0d7",
   "metadata": {},
   "source": [
    "CBOW (continuous bag of words) and the skip-gram model are the two main architectures associated with Word2vec. "
   ]
  },
  {
   "cell_type": "markdown",
   "id": "01f8e68c",
   "metadata": {},
   "source": [
    "We will grab the data from the movie review dataset."
   ]
  },
  {
   "cell_type": "code",
   "execution_count": 1,
   "id": "9a8ebc5a",
   "metadata": {},
   "outputs": [],
   "source": [
    "#import the libraies\n",
    "import pandas as pd\n",
    "import numpy as np\n",
    "from matplotlib import pyplot as plt\n",
    "\n",
    "%matplotlib inline\n",
    "\n",
    "import seaborn as sns\n",
    "import nltk\n",
    "from nltk.corpus import stopwords\n",
    "from nltk.stem import WordNetLemmatizer\n",
    "\n",
    "import codecs\n",
    "from tqdm import tqdm\n",
    "import time\n",
    "import re\n",
    "\n",
    "import nltk\n",
    "from nltk.corpus import stopwords\n",
    "from nltk.stem import SnowballStemmer\n",
    "from nltk.stem import WordNetLemmatizer\n",
    "import sklearn\n",
    "from sklearn.model_selection import train_test_split\n",
    "from tensorflow import keras\n",
    "import tensorflow as tf\n",
    "from gensim.models import Word2Vec as w2v\n",
    "\n",
    "from tensorflow.keras import layers\n",
    "from keras.preprocessing.sequence import pad_sequences\n",
    "from keras.preprocessing.text import Tokenizer\n",
    "from tensorflow.keras.models import Sequential, Model\n",
    "from keras.layers.embeddings import Embedding\n",
    "from tensorflow.keras.layers import Conv1D, Bidirectional, LSTM, Dense, Input, Dropout, MaxPooling1D, SpatialDropout1D, GlobalMaxPooling1D\n",
    "from tensorflow.keras.optimizers import Adam\n",
    "from tensorflow.keras.callbacks import ReduceLROnPlateau, EarlyStopping"
   ]
  },
  {
   "cell_type": "code",
   "execution_count": 2,
   "id": "4b4b3b9d",
   "metadata": {},
   "outputs": [],
   "source": [
    "#read the dataset\n",
    "df=pd.read_csv('https://raw.githubusercontent.com/arditoibryan/Projects/master/20200602_Twitter_Sentiment_Analysis/movie_review.csv')"
   ]
  },
  {
   "cell_type": "code",
   "execution_count": 3,
   "id": "cd80ae5a",
   "metadata": {
    "scrolled": false
   },
   "outputs": [
    {
     "data": {
      "text/html": [
       "<div>\n",
       "<style scoped>\n",
       "    .dataframe tbody tr th:only-of-type {\n",
       "        vertical-align: middle;\n",
       "    }\n",
       "\n",
       "    .dataframe tbody tr th {\n",
       "        vertical-align: top;\n",
       "    }\n",
       "\n",
       "    .dataframe thead th {\n",
       "        text-align: right;\n",
       "    }\n",
       "</style>\n",
       "<table border=\"1\" class=\"dataframe\">\n",
       "  <thead>\n",
       "    <tr style=\"text-align: right;\">\n",
       "      <th></th>\n",
       "      <th>fold_id</th>\n",
       "      <th>cv_tag</th>\n",
       "      <th>html_id</th>\n",
       "      <th>sent_id</th>\n",
       "      <th>text</th>\n",
       "      <th>tag</th>\n",
       "    </tr>\n",
       "  </thead>\n",
       "  <tbody>\n",
       "    <tr>\n",
       "      <th>0</th>\n",
       "      <td>0</td>\n",
       "      <td>cv000</td>\n",
       "      <td>29590</td>\n",
       "      <td>0</td>\n",
       "      <td>films adapted from comic books have had plenty...</td>\n",
       "      <td>pos</td>\n",
       "    </tr>\n",
       "    <tr>\n",
       "      <th>1</th>\n",
       "      <td>0</td>\n",
       "      <td>cv000</td>\n",
       "      <td>29590</td>\n",
       "      <td>1</td>\n",
       "      <td>for starters , it was created by alan moore ( ...</td>\n",
       "      <td>pos</td>\n",
       "    </tr>\n",
       "    <tr>\n",
       "      <th>2</th>\n",
       "      <td>0</td>\n",
       "      <td>cv000</td>\n",
       "      <td>29590</td>\n",
       "      <td>2</td>\n",
       "      <td>to say moore and campbell thoroughly researche...</td>\n",
       "      <td>pos</td>\n",
       "    </tr>\n",
       "    <tr>\n",
       "      <th>3</th>\n",
       "      <td>0</td>\n",
       "      <td>cv000</td>\n",
       "      <td>29590</td>\n",
       "      <td>3</td>\n",
       "      <td>the book ( or \" graphic novel , \" if you will ...</td>\n",
       "      <td>pos</td>\n",
       "    </tr>\n",
       "    <tr>\n",
       "      <th>4</th>\n",
       "      <td>0</td>\n",
       "      <td>cv000</td>\n",
       "      <td>29590</td>\n",
       "      <td>4</td>\n",
       "      <td>in other words , don't dismiss this film becau...</td>\n",
       "      <td>pos</td>\n",
       "    </tr>\n",
       "  </tbody>\n",
       "</table>\n",
       "</div>"
      ],
      "text/plain": [
       "   fold_id cv_tag  html_id  sent_id  \\\n",
       "0        0  cv000    29590        0   \n",
       "1        0  cv000    29590        1   \n",
       "2        0  cv000    29590        2   \n",
       "3        0  cv000    29590        3   \n",
       "4        0  cv000    29590        4   \n",
       "\n",
       "                                                text  tag  \n",
       "0  films adapted from comic books have had plenty...  pos  \n",
       "1  for starters , it was created by alan moore ( ...  pos  \n",
       "2  to say moore and campbell thoroughly researche...  pos  \n",
       "3  the book ( or \" graphic novel , \" if you will ...  pos  \n",
       "4  in other words , don't dismiss this film becau...  pos  "
      ]
     },
     "execution_count": 3,
     "metadata": {},
     "output_type": "execute_result"
    }
   ],
   "source": [
    "df.head()"
   ]
  },
  {
   "cell_type": "code",
   "execution_count": 4,
   "id": "2f5df2c5",
   "metadata": {},
   "outputs": [
    {
     "data": {
      "text/plain": [
       "(64720, 6)"
      ]
     },
     "execution_count": 4,
     "metadata": {},
     "output_type": "execute_result"
    }
   ],
   "source": [
    "df.shape"
   ]
  },
  {
   "cell_type": "code",
   "execution_count": 5,
   "id": "8af02c58",
   "metadata": {
    "scrolled": false
   },
   "outputs": [
    {
     "data": {
      "text/plain": [
       "pos    32937\n",
       "neg    31783\n",
       "Name: tag, dtype: int64"
      ]
     },
     "execution_count": 5,
     "metadata": {},
     "output_type": "execute_result"
    }
   ],
   "source": [
    "df['tag'].value_counts()"
   ]
  },
  {
   "cell_type": "markdown",
   "id": "a3507e95",
   "metadata": {},
   "source": [
    "Tags are the target in our dataset where 'pos' stands for positive and 'neg' is negative. We drop the columns which are not required."
   ]
  },
  {
   "cell_type": "code",
   "execution_count": 6,
   "id": "79453d6b",
   "metadata": {},
   "outputs": [],
   "source": [
    "df = df.drop(['fold_id', 'cv_tag', 'html_id', 'sent_id'], axis=1)"
   ]
  },
  {
   "cell_type": "code",
   "execution_count": 7,
   "id": "017f06fc",
   "metadata": {
    "scrolled": true
   },
   "outputs": [
    {
     "data": {
      "text/html": [
       "<div>\n",
       "<style scoped>\n",
       "    .dataframe tbody tr th:only-of-type {\n",
       "        vertical-align: middle;\n",
       "    }\n",
       "\n",
       "    .dataframe tbody tr th {\n",
       "        vertical-align: top;\n",
       "    }\n",
       "\n",
       "    .dataframe thead th {\n",
       "        text-align: right;\n",
       "    }\n",
       "</style>\n",
       "<table border=\"1\" class=\"dataframe\">\n",
       "  <thead>\n",
       "    <tr style=\"text-align: right;\">\n",
       "      <th></th>\n",
       "      <th>text</th>\n",
       "      <th>tag</th>\n",
       "    </tr>\n",
       "  </thead>\n",
       "  <tbody>\n",
       "    <tr>\n",
       "      <th>0</th>\n",
       "      <td>films adapted from comic books have had plenty...</td>\n",
       "      <td>pos</td>\n",
       "    </tr>\n",
       "    <tr>\n",
       "      <th>1</th>\n",
       "      <td>for starters , it was created by alan moore ( ...</td>\n",
       "      <td>pos</td>\n",
       "    </tr>\n",
       "    <tr>\n",
       "      <th>2</th>\n",
       "      <td>to say moore and campbell thoroughly researche...</td>\n",
       "      <td>pos</td>\n",
       "    </tr>\n",
       "    <tr>\n",
       "      <th>3</th>\n",
       "      <td>the book ( or \" graphic novel , \" if you will ...</td>\n",
       "      <td>pos</td>\n",
       "    </tr>\n",
       "    <tr>\n",
       "      <th>4</th>\n",
       "      <td>in other words , don't dismiss this film becau...</td>\n",
       "      <td>pos</td>\n",
       "    </tr>\n",
       "  </tbody>\n",
       "</table>\n",
       "</div>"
      ],
      "text/plain": [
       "                                                text  tag\n",
       "0  films adapted from comic books have had plenty...  pos\n",
       "1  for starters , it was created by alan moore ( ...  pos\n",
       "2  to say moore and campbell thoroughly researche...  pos\n",
       "3  the book ( or \" graphic novel , \" if you will ...  pos\n",
       "4  in other words , don't dismiss this film becau...  pos"
      ]
     },
     "execution_count": 7,
     "metadata": {},
     "output_type": "execute_result"
    }
   ],
   "source": [
    "df.head()"
   ]
  },
  {
   "cell_type": "code",
   "execution_count": 8,
   "id": "7583251e",
   "metadata": {},
   "outputs": [],
   "source": [
    "df.columns = ['tweets', 'sentiment']"
   ]
  },
  {
   "cell_type": "code",
   "execution_count": 9,
   "id": "7e113245",
   "metadata": {
    "scrolled": false
   },
   "outputs": [
    {
     "data": {
      "text/html": [
       "<div>\n",
       "<style scoped>\n",
       "    .dataframe tbody tr th:only-of-type {\n",
       "        vertical-align: middle;\n",
       "    }\n",
       "\n",
       "    .dataframe tbody tr th {\n",
       "        vertical-align: top;\n",
       "    }\n",
       "\n",
       "    .dataframe thead th {\n",
       "        text-align: right;\n",
       "    }\n",
       "</style>\n",
       "<table border=\"1\" class=\"dataframe\">\n",
       "  <thead>\n",
       "    <tr style=\"text-align: right;\">\n",
       "      <th></th>\n",
       "      <th>tweets</th>\n",
       "      <th>sentiment</th>\n",
       "    </tr>\n",
       "  </thead>\n",
       "  <tbody>\n",
       "    <tr>\n",
       "      <th>0</th>\n",
       "      <td>films adapted from comic books have had plenty...</td>\n",
       "      <td>pos</td>\n",
       "    </tr>\n",
       "    <tr>\n",
       "      <th>1</th>\n",
       "      <td>for starters , it was created by alan moore ( ...</td>\n",
       "      <td>pos</td>\n",
       "    </tr>\n",
       "    <tr>\n",
       "      <th>2</th>\n",
       "      <td>to say moore and campbell thoroughly researche...</td>\n",
       "      <td>pos</td>\n",
       "    </tr>\n",
       "    <tr>\n",
       "      <th>3</th>\n",
       "      <td>the book ( or \" graphic novel , \" if you will ...</td>\n",
       "      <td>pos</td>\n",
       "    </tr>\n",
       "    <tr>\n",
       "      <th>4</th>\n",
       "      <td>in other words , don't dismiss this film becau...</td>\n",
       "      <td>pos</td>\n",
       "    </tr>\n",
       "  </tbody>\n",
       "</table>\n",
       "</div>"
      ],
      "text/plain": [
       "                                              tweets sentiment\n",
       "0  films adapted from comic books have had plenty...       pos\n",
       "1  for starters , it was created by alan moore ( ...       pos\n",
       "2  to say moore and campbell thoroughly researche...       pos\n",
       "3  the book ( or \" graphic novel , \" if you will ...       pos\n",
       "4  in other words , don't dismiss this film becau...       pos"
      ]
     },
     "execution_count": 9,
     "metadata": {},
     "output_type": "execute_result"
    }
   ],
   "source": [
    "df.head()"
   ]
  },
  {
   "cell_type": "code",
   "execution_count": 10,
   "id": "6729acdd",
   "metadata": {
    "scrolled": false
   },
   "outputs": [
    {
     "data": {
      "image/png": "[encoded data removed]",
      "text/plain": [
       "<Figure size 432x288 with 1 Axes>"
      ]
     },
     "metadata": {
      "needs_background": "light"
     },
     "output_type": "display_data"
    }
   ],
   "source": [
    "# Check whether the datset us balanced\n",
    "sns.countplot(x=\"sentiment\", data=df);"
   ]
  },
  {
   "cell_type": "code",
   "execution_count": 11,
   "id": "a1ee239b",
   "metadata": {
    "scrolled": false
   },
   "outputs": [],
   "source": [
    "# change sentiment value to either 0 or 1\n",
    "df['sentiment'] = [1 if s=='pos' else 0 for s in df['sentiment']]"
   ]
  },
  {
   "cell_type": "code",
   "execution_count": 12,
   "id": "aa37c7c4",
   "metadata": {
    "scrolled": true
   },
   "outputs": [
    {
     "data": {
      "text/html": [
       "<div>\n",
       "<style scoped>\n",
       "    .dataframe tbody tr th:only-of-type {\n",
       "        vertical-align: middle;\n",
       "    }\n",
       "\n",
       "    .dataframe tbody tr th {\n",
       "        vertical-align: top;\n",
       "    }\n",
       "\n",
       "    .dataframe thead th {\n",
       "        text-align: right;\n",
       "    }\n",
       "</style>\n",
       "<table border=\"1\" class=\"dataframe\">\n",
       "  <thead>\n",
       "    <tr style=\"text-align: right;\">\n",
       "      <th></th>\n",
       "      <th>tweets</th>\n",
       "      <th>sentiment</th>\n",
       "    </tr>\n",
       "  </thead>\n",
       "  <tbody>\n",
       "    <tr>\n",
       "      <th>0</th>\n",
       "      <td>films adapted from comic books have had plenty...</td>\n",
       "      <td>1</td>\n",
       "    </tr>\n",
       "    <tr>\n",
       "      <th>1</th>\n",
       "      <td>for starters , it was created by alan moore ( ...</td>\n",
       "      <td>1</td>\n",
       "    </tr>\n",
       "    <tr>\n",
       "      <th>2</th>\n",
       "      <td>to say moore and campbell thoroughly researche...</td>\n",
       "      <td>1</td>\n",
       "    </tr>\n",
       "    <tr>\n",
       "      <th>3</th>\n",
       "      <td>the book ( or \" graphic novel , \" if you will ...</td>\n",
       "      <td>1</td>\n",
       "    </tr>\n",
       "    <tr>\n",
       "      <th>4</th>\n",
       "      <td>in other words , don't dismiss this film becau...</td>\n",
       "      <td>1</td>\n",
       "    </tr>\n",
       "  </tbody>\n",
       "</table>\n",
       "</div>"
      ],
      "text/plain": [
       "                                              tweets  sentiment\n",
       "0  films adapted from comic books have had plenty...          1\n",
       "1  for starters , it was created by alan moore ( ...          1\n",
       "2  to say moore and campbell thoroughly researche...          1\n",
       "3  the book ( or \" graphic novel , \" if you will ...          1\n",
       "4  in other words , don't dismiss this film becau...          1"
      ]
     },
     "execution_count": 12,
     "metadata": {},
     "output_type": "execute_result"
    }
   ],
   "source": [
    "df.head()"
   ]
  },
  {
   "cell_type": "code",
   "execution_count": 13,
   "id": "574ac91f",
   "metadata": {},
   "outputs": [],
   "source": [
    "df_preprocess = df.copy()"
   ]
  },
  {
   "cell_type": "code",
   "execution_count": 14,
   "id": "0c9f8d8b",
   "metadata": {
    "scrolled": true
   },
   "outputs": [
    {
     "data": {
      "text/html": [
       "<div>\n",
       "<style scoped>\n",
       "    .dataframe tbody tr th:only-of-type {\n",
       "        vertical-align: middle;\n",
       "    }\n",
       "\n",
       "    .dataframe tbody tr th {\n",
       "        vertical-align: top;\n",
       "    }\n",
       "\n",
       "    .dataframe thead th {\n",
       "        text-align: right;\n",
       "    }\n",
       "</style>\n",
       "<table border=\"1\" class=\"dataframe\">\n",
       "  <thead>\n",
       "    <tr style=\"text-align: right;\">\n",
       "      <th></th>\n",
       "      <th>tweets</th>\n",
       "      <th>sentiment</th>\n",
       "      <th>stopwords</th>\n",
       "    </tr>\n",
       "  </thead>\n",
       "  <tbody>\n",
       "    <tr>\n",
       "      <th>0</th>\n",
       "      <td>films adapted from comic books have had plenty...</td>\n",
       "      <td>1</td>\n",
       "      <td>13</td>\n",
       "    </tr>\n",
       "    <tr>\n",
       "      <th>1</th>\n",
       "      <td>for starters , it was created by alan moore ( ...</td>\n",
       "      <td>1</td>\n",
       "      <td>14</td>\n",
       "    </tr>\n",
       "    <tr>\n",
       "      <th>2</th>\n",
       "      <td>to say moore and campbell thoroughly researche...</td>\n",
       "      <td>1</td>\n",
       "      <td>9</td>\n",
       "    </tr>\n",
       "    <tr>\n",
       "      <th>3</th>\n",
       "      <td>the book ( or \" graphic novel , \" if you will ...</td>\n",
       "      <td>1</td>\n",
       "      <td>12</td>\n",
       "    </tr>\n",
       "    <tr>\n",
       "      <th>4</th>\n",
       "      <td>in other words , don't dismiss this film becau...</td>\n",
       "      <td>1</td>\n",
       "      <td>7</td>\n",
       "    </tr>\n",
       "  </tbody>\n",
       "</table>\n",
       "</div>"
      ],
      "text/plain": [
       "                                              tweets  sentiment  stopwords\n",
       "0  films adapted from comic books have had plenty...          1         13\n",
       "1  for starters , it was created by alan moore ( ...          1         14\n",
       "2  to say moore and campbell thoroughly researche...          1          9\n",
       "3  the book ( or \" graphic novel , \" if you will ...          1         12\n",
       "4  in other words , don't dismiss this film becau...          1          7"
      ]
     },
     "execution_count": 14,
     "metadata": {},
     "output_type": "execute_result"
    }
   ],
   "source": [
    "stopword = stopwords.words('english')\n",
    "\n",
    "df['stopwords'] = df['tweets'].apply(lambda x: len([x for x in x.split() if x in stopword]))\n",
    "df.head()"
   ]
  },
  {
   "cell_type": "code",
   "execution_count": 15,
   "id": "d8602944",
   "metadata": {},
   "outputs": [
    {
     "data": {
      "text/html": [
       "<div>\n",
       "<style scoped>\n",
       "    .dataframe tbody tr th:only-of-type {\n",
       "        vertical-align: middle;\n",
       "    }\n",
       "\n",
       "    .dataframe tbody tr th {\n",
       "        vertical-align: top;\n",
       "    }\n",
       "\n",
       "    .dataframe thead th {\n",
       "        text-align: right;\n",
       "    }\n",
       "</style>\n",
       "<table border=\"1\" class=\"dataframe\">\n",
       "  <thead>\n",
       "    <tr style=\"text-align: right;\">\n",
       "      <th></th>\n",
       "      <th>tweets</th>\n",
       "      <th>sentiment</th>\n",
       "      <th>stopwords</th>\n",
       "      <th>char_count</th>\n",
       "    </tr>\n",
       "  </thead>\n",
       "  <tbody>\n",
       "    <tr>\n",
       "      <th>0</th>\n",
       "      <td>films adapted from comic books have had plenty...</td>\n",
       "      <td>1</td>\n",
       "      <td>13</td>\n",
       "      <td>265</td>\n",
       "    </tr>\n",
       "    <tr>\n",
       "      <th>1</th>\n",
       "      <td>for starters , it was created by alan moore ( ...</td>\n",
       "      <td>1</td>\n",
       "      <td>14</td>\n",
       "      <td>172</td>\n",
       "    </tr>\n",
       "    <tr>\n",
       "      <th>2</th>\n",
       "      <td>to say moore and campbell thoroughly researche...</td>\n",
       "      <td>1</td>\n",
       "      <td>9</td>\n",
       "      <td>150</td>\n",
       "    </tr>\n",
       "    <tr>\n",
       "      <th>3</th>\n",
       "      <td>the book ( or \" graphic novel , \" if you will ...</td>\n",
       "      <td>1</td>\n",
       "      <td>12</td>\n",
       "      <td>138</td>\n",
       "    </tr>\n",
       "    <tr>\n",
       "      <th>4</th>\n",
       "      <td>in other words , don't dismiss this film becau...</td>\n",
       "      <td>1</td>\n",
       "      <td>7</td>\n",
       "      <td>64</td>\n",
       "    </tr>\n",
       "  </tbody>\n",
       "</table>\n",
       "</div>"
      ],
      "text/plain": [
       "                                              tweets  sentiment  stopwords  \\\n",
       "0  films adapted from comic books have had plenty...          1         13   \n",
       "1  for starters , it was created by alan moore ( ...          1         14   \n",
       "2  to say moore and campbell thoroughly researche...          1          9   \n",
       "3  the book ( or \" graphic novel , \" if you will ...          1         12   \n",
       "4  in other words , don't dismiss this film becau...          1          7   \n",
       "\n",
       "   char_count  \n",
       "0         265  \n",
       "1         172  \n",
       "2         150  \n",
       "3         138  \n",
       "4          64  "
      ]
     },
     "execution_count": 15,
     "metadata": {},
     "output_type": "execute_result"
    }
   ],
   "source": [
    "df['char_count'] = df['tweets'].str.len()\n",
    "df.head()"
   ]
  },
  {
   "cell_type": "code",
   "execution_count": 16,
   "id": "3df7bef4",
   "metadata": {
    "scrolled": false
   },
   "outputs": [
    {
     "data": {
      "text/html": [
       "<div>\n",
       "<style scoped>\n",
       "    .dataframe tbody tr th:only-of-type {\n",
       "        vertical-align: middle;\n",
       "    }\n",
       "\n",
       "    .dataframe tbody tr th {\n",
       "        vertical-align: top;\n",
       "    }\n",
       "\n",
       "    .dataframe thead th {\n",
       "        text-align: right;\n",
       "    }\n",
       "</style>\n",
       "<table border=\"1\" class=\"dataframe\">\n",
       "  <thead>\n",
       "    <tr style=\"text-align: right;\">\n",
       "      <th></th>\n",
       "      <th>tweets</th>\n",
       "      <th>sentiment</th>\n",
       "      <th>stopwords</th>\n",
       "      <th>char_count</th>\n",
       "      <th>word_count</th>\n",
       "    </tr>\n",
       "  </thead>\n",
       "  <tbody>\n",
       "    <tr>\n",
       "      <th>0</th>\n",
       "      <td>films adapted from comic books have had plenty...</td>\n",
       "      <td>1</td>\n",
       "      <td>13</td>\n",
       "      <td>265</td>\n",
       "      <td>52</td>\n",
       "    </tr>\n",
       "    <tr>\n",
       "      <th>1</th>\n",
       "      <td>for starters , it was created by alan moore ( ...</td>\n",
       "      <td>1</td>\n",
       "      <td>14</td>\n",
       "      <td>172</td>\n",
       "      <td>36</td>\n",
       "    </tr>\n",
       "    <tr>\n",
       "      <th>2</th>\n",
       "      <td>to say moore and campbell thoroughly researche...</td>\n",
       "      <td>1</td>\n",
       "      <td>9</td>\n",
       "      <td>150</td>\n",
       "      <td>27</td>\n",
       "    </tr>\n",
       "    <tr>\n",
       "      <th>3</th>\n",
       "      <td>the book ( or \" graphic novel , \" if you will ...</td>\n",
       "      <td>1</td>\n",
       "      <td>12</td>\n",
       "      <td>138</td>\n",
       "      <td>30</td>\n",
       "    </tr>\n",
       "    <tr>\n",
       "      <th>4</th>\n",
       "      <td>in other words , don't dismiss this film becau...</td>\n",
       "      <td>1</td>\n",
       "      <td>7</td>\n",
       "      <td>64</td>\n",
       "      <td>13</td>\n",
       "    </tr>\n",
       "  </tbody>\n",
       "</table>\n",
       "</div>"
      ],
      "text/plain": [
       "                                              tweets  sentiment  stopwords  \\\n",
       "0  films adapted from comic books have had plenty...          1         13   \n",
       "1  for starters , it was created by alan moore ( ...          1         14   \n",
       "2  to say moore and campbell thoroughly researche...          1          9   \n",
       "3  the book ( or \" graphic novel , \" if you will ...          1         12   \n",
       "4  in other words , don't dismiss this film becau...          1          7   \n",
       "\n",
       "   char_count  word_count  \n",
       "0         265          52  \n",
       "1         172          36  \n",
       "2         150          27  \n",
       "3         138          30  \n",
       "4          64          13  "
      ]
     },
     "execution_count": 16,
     "metadata": {},
     "output_type": "execute_result"
    }
   ],
   "source": [
    "df['word_count'] = df['tweets'].apply(lambda x: len(str(x).split(\" \")))\n",
    "df.head()"
   ]
  },
  {
   "cell_type": "code",
   "execution_count": 17,
   "id": "1bf8aefc",
   "metadata": {},
   "outputs": [],
   "source": [
    "dg= df[['stopwords', 'char_count', 'word_count']]"
   ]
  },
  {
   "cell_type": "code",
   "execution_count": 18,
   "id": "6f20d8a5",
   "metadata": {
    "scrolled": false
   },
   "outputs": [
    {
     "data": {
      "image/png": "[encoded data removed]",
      "text/plain": [
       "<Figure size 576x576 with 3 Axes>"
      ]
     },
     "metadata": {
      "needs_background": "light"
     },
     "output_type": "display_data"
    }
   ],
   "source": [
    "#  Categorical Data\n",
    "a = 1  # number of rows\n",
    "b = 3  # number of columns\n",
    "c = 1  # initialize plot counter\n",
    "\n",
    "fig = plt.figure(figsize=(8,8))\n",
    "\n",
    "for i in dg:\n",
    "    plt.subplot(a, b, c)\n",
    "    plt.title('Distribution of {}'.format(i))\n",
    "    plt.xlabel(i)\n",
    "    sns.kdeplot(dg[i], fill=True)\n",
    "    c = c + 1\n",
    "\n",
    "plt.tight_layout()\n",
    "plt.show()"
   ]
  },
  {
   "cell_type": "code",
   "execution_count": 19,
   "id": "4e8b0449",
   "metadata": {
    "scrolled": false
   },
   "outputs": [
    {
     "data": {
      "text/plain": [
       "0    films adapted from comic books have had plenty...\n",
       "1    for starters , it was created by alan moore ( ...\n",
       "2    to say moore and campbell thoroughly researche...\n",
       "3    the book ( or \" graphic novel , \" if you will ...\n",
       "4    in other words , don't dismiss this film becau...\n",
       "Name: tweets, dtype: object"
      ]
     },
     "execution_count": 19,
     "metadata": {},
     "output_type": "execute_result"
    }
   ],
   "source": [
    "tweets = df_preprocess.tweets\n",
    "tweets.head()"
   ]
  },
  {
   "cell_type": "code",
   "execution_count": 20,
   "id": "5a815555",
   "metadata": {},
   "outputs": [],
   "source": [
    "stop_words = stopwords.words('english')\n",
    "stemmer = SnowballStemmer('english')\n",
    "\n",
    "text_cleaning_re = \"@\\S+|https?:\\S+|http?:\\S|[^A-Za-z0-9]+\""
   ]
  },
  {
   "cell_type": "code",
   "execution_count": 21,
   "id": "3da43ed3",
   "metadata": {},
   "outputs": [],
   "source": [
    "def preprocess(text, stem=False):\n",
    "  text = re.sub(text_cleaning_re, ' ', str(text).lower()).strip()\n",
    "  tokens = []\n",
    "  for token in text.split():\n",
    "    if token not in stop_words:\n",
    "      if stem:\n",
    "        tokens.append(stemmer.stem(token))\n",
    "      else:\n",
    "        tokens.append(token)\n",
    "  return \" \".join(tokens)"
   ]
  },
  {
   "cell_type": "code",
   "execution_count": 22,
   "id": "4c54c8ac",
   "metadata": {
    "scrolled": false
   },
   "outputs": [],
   "source": [
    "df_preprocess.tweets = df_preprocess.tweets.apply(lambda x: preprocess(x))"
   ]
  },
  {
   "cell_type": "code",
   "execution_count": 23,
   "id": "d51a68a2",
   "metadata": {},
   "outputs": [],
   "source": [
    "df_preprocess= df_preprocess[['tweets', 'sentiment']]"
   ]
  },
  {
   "cell_type": "code",
   "execution_count": 24,
   "id": "a0c8c0b1",
   "metadata": {
    "scrolled": false
   },
   "outputs": [
    {
     "data": {
      "text/html": [
       "<div>\n",
       "<style scoped>\n",
       "    .dataframe tbody tr th:only-of-type {\n",
       "        vertical-align: middle;\n",
       "    }\n",
       "\n",
       "    .dataframe tbody tr th {\n",
       "        vertical-align: top;\n",
       "    }\n",
       "\n",
       "    .dataframe thead th {\n",
       "        text-align: right;\n",
       "    }\n",
       "</style>\n",
       "<table border=\"1\" class=\"dataframe\">\n",
       "  <thead>\n",
       "    <tr style=\"text-align: right;\">\n",
       "      <th></th>\n",
       "      <th>tweets</th>\n",
       "      <th>sentiment</th>\n",
       "    </tr>\n",
       "  </thead>\n",
       "  <tbody>\n",
       "    <tr>\n",
       "      <th>0</th>\n",
       "      <td>films adapted comic books plenty success wheth...</td>\n",
       "      <td>1</td>\n",
       "    </tr>\n",
       "    <tr>\n",
       "      <th>1</th>\n",
       "      <td>starters created alan moore eddie campbell bro...</td>\n",
       "      <td>1</td>\n",
       "    </tr>\n",
       "    <tr>\n",
       "      <th>2</th>\n",
       "      <td>say moore campbell thoroughly researched subje...</td>\n",
       "      <td>1</td>\n",
       "    </tr>\n",
       "    <tr>\n",
       "      <th>3</th>\n",
       "      <td>book graphic novel 500 pages long includes nea...</td>\n",
       "      <td>1</td>\n",
       "    </tr>\n",
       "    <tr>\n",
       "      <th>4</th>\n",
       "      <td>words dismiss film source</td>\n",
       "      <td>1</td>\n",
       "    </tr>\n",
       "  </tbody>\n",
       "</table>\n",
       "</div>"
      ],
      "text/plain": [
       "                                              tweets  sentiment\n",
       "0  films adapted comic books plenty success wheth...          1\n",
       "1  starters created alan moore eddie campbell bro...          1\n",
       "2  say moore campbell thoroughly researched subje...          1\n",
       "3  book graphic novel 500 pages long includes nea...          1\n",
       "4                          words dismiss film source          1"
      ]
     },
     "execution_count": 24,
     "metadata": {},
     "output_type": "execute_result"
    }
   ],
   "source": [
    "df_preprocess.head()"
   ]
  },
  {
   "cell_type": "code",
   "execution_count": 25,
   "id": "b785c801",
   "metadata": {
    "scrolled": false
   },
   "outputs": [
    {
     "data": {
      "text/plain": [
       "1    32937\n",
       "0    31783\n",
       "Name: sentiment, dtype: int64"
      ]
     },
     "execution_count": 25,
     "metadata": {},
     "output_type": "execute_result"
    }
   ],
   "source": [
    "df_preprocess['sentiment'].value_counts()"
   ]
  },
  {
   "cell_type": "markdown",
   "id": "0659d85c",
   "metadata": {},
   "source": [
    "The dataset is balanced"
   ]
  },
  {
   "cell_type": "code",
   "execution_count": 26,
   "id": "e0db19df",
   "metadata": {
    "scrolled": true
   },
   "outputs": [
    {
     "data": {
      "text/html": [
       "<div>\n",
       "<style scoped>\n",
       "    .dataframe tbody tr th:only-of-type {\n",
       "        vertical-align: middle;\n",
       "    }\n",
       "\n",
       "    .dataframe tbody tr th {\n",
       "        vertical-align: top;\n",
       "    }\n",
       "\n",
       "    .dataframe thead th {\n",
       "        text-align: right;\n",
       "    }\n",
       "</style>\n",
       "<table border=\"1\" class=\"dataframe\">\n",
       "  <thead>\n",
       "    <tr style=\"text-align: right;\">\n",
       "      <th></th>\n",
       "      <th>tweet</th>\n",
       "      <th>sentiment</th>\n",
       "    </tr>\n",
       "  </thead>\n",
       "  <tbody>\n",
       "    <tr>\n",
       "      <th>0</th>\n",
       "      <td>films adapted comic books plenty success wheth...</td>\n",
       "      <td>1</td>\n",
       "    </tr>\n",
       "    <tr>\n",
       "      <th>1</th>\n",
       "      <td>starters created alan moore eddie campbell bro...</td>\n",
       "      <td>1</td>\n",
       "    </tr>\n",
       "    <tr>\n",
       "      <th>2</th>\n",
       "      <td>say moore campbell thoroughly researched subje...</td>\n",
       "      <td>1</td>\n",
       "    </tr>\n",
       "    <tr>\n",
       "      <th>3</th>\n",
       "      <td>book graphic novel 500 pages long includes nea...</td>\n",
       "      <td>1</td>\n",
       "    </tr>\n",
       "    <tr>\n",
       "      <th>4</th>\n",
       "      <td>words dismiss film source</td>\n",
       "      <td>1</td>\n",
       "    </tr>\n",
       "  </tbody>\n",
       "</table>\n",
       "</div>"
      ],
      "text/plain": [
       "                                               tweet  sentiment\n",
       "0  films adapted comic books plenty success wheth...          1\n",
       "1  starters created alan moore eddie campbell bro...          1\n",
       "2  say moore campbell thoroughly researched subje...          1\n",
       "3  book graphic novel 500 pages long includes nea...          1\n",
       "4                          words dismiss film source          1"
      ]
     },
     "execution_count": 26,
     "metadata": {},
     "output_type": "execute_result"
    }
   ],
   "source": [
    "df_preprocess= df_preprocess.rename(columns={'tweets': 'tweet', 'sentiment': 'sentiment'})\n",
    "df_preprocess.head()"
   ]
  },
  {
   "cell_type": "code",
   "execution_count": 27,
   "id": "ac2179d9",
   "metadata": {},
   "outputs": [
    {
     "data": {
      "text/plain": [
       "(64720, 2)"
      ]
     },
     "execution_count": 27,
     "metadata": {},
     "output_type": "execute_result"
    }
   ],
   "source": [
    "df_preprocess.shape"
   ]
  },
  {
   "cell_type": "markdown",
   "id": "dfcf68fa",
   "metadata": {},
   "source": [
    "**Words in the positive and negive corpus**"
   ]
  },
  {
   "cell_type": "code",
   "execution_count": 28,
   "id": "ba468ace",
   "metadata": {},
   "outputs": [],
   "source": [
    "neg_corpus = []\n",
    "for msg in df_preprocess[df_preprocess['sentiment'] == 0]['tweet'].tolist():\n",
    "    for word in msg.split():\n",
    "        neg_corpus.append(word)"
   ]
  },
  {
   "cell_type": "code",
   "execution_count": 29,
   "id": "bad06a68",
   "metadata": {},
   "outputs": [],
   "source": [
    "pos_corpus = []\n",
    "for msg in df_preprocess[df_preprocess['sentiment'] == 1]['tweet'].tolist():\n",
    "    for word in msg.split():\n",
    "        pos_corpus.append(word)"
   ]
  },
  {
   "cell_type": "code",
   "execution_count": 30,
   "id": "342bdd42",
   "metadata": {},
   "outputs": [
    {
     "data": {
      "text/plain": [
       "(375079, 333438)"
      ]
     },
     "execution_count": 30,
     "metadata": {},
     "output_type": "execute_result"
    }
   ],
   "source": [
    "len(pos_corpus), len(neg_corpus)"
   ]
  },
  {
   "cell_type": "code",
   "execution_count": 31,
   "id": "c1d2db50",
   "metadata": {
    "scrolled": false
   },
   "outputs": [
    {
     "data": {
      "image/png": "[encoded data removed]",
      "text/plain": [
       "<Figure size 432x288 with 1 Axes>"
      ]
     },
     "metadata": {
      "needs_background": "light"
     },
     "output_type": "display_data"
    }
   ],
   "source": [
    "# Top 10 words in the negative corpus\n",
    "from collections import Counter\n",
    "sns.barplot(x=pd.DataFrame(Counter(pos_corpus).most_common(10))[0], y=pd.DataFrame(Counter(neg_corpus).most_common(10))[1])\n",
    "plt.xticks(rotation='vertical')\n",
    "plt.title('Top 10 words in the negative corpus')\n",
    "plt.show()"
   ]
  },
  {
   "cell_type": "code",
   "execution_count": 32,
   "id": "4fe6840a",
   "metadata": {
    "scrolled": true
   },
   "outputs": [
    {
     "data": {
      "image/png": "[encoded data removed]",
      "text/plain": [
       "<Figure size 432x288 with 1 Axes>"
      ]
     },
     "metadata": {
      "needs_background": "light"
     },
     "output_type": "display_data"
    }
   ],
   "source": [
    "sns.barplot(x=pd.DataFrame(Counter(pos_corpus).most_common(10))[0], y=pd.DataFrame(Counter(pos_corpus).most_common(10))[1])\n",
    "plt.xticks(rotation='vertical')\n",
    "plt.title('Top 10 words in the positive corpus')\n",
    "plt.show()"
   ]
  },
  {
   "cell_type": "markdown",
   "id": "4d23cf0e",
   "metadata": {},
   "source": [
    "**keras.preprocessing.text.Tokenizer is a very useful tokenizer for text processing in deep learning**\n",
    "\n",
    "Tokenizer assumes that the word tokens of the input texts have been delimited by whitespaces.\n",
    "Tokenizer provides the following functions:\n",
    "\n",
    "* It will first create a dictionary for the entire corpus (a mapping of each word token and its unique integer index index) (Tokenizer.fit_on_text())\n",
    "\n",
    "* It can then use the corpus dictionary to convert words in each corpus text into integer sequences (Tokenizer.texts_to_sequences())\n",
    "\n",
    "* The dictionary is in Tokenizer.word_index\n",
    "\n",
    "\n",
    "Notes on Tokenizer:\n",
    "By default, the token index 0 is reserved for padding token.\n",
    "If oov_token is specified, it is default to index 1. (Default: oov_token=False)\n",
    "Specify num_words=N for Tokenizer to include only top N words in converting texts to sequences.\n",
    "Tokenizer will automatically remove punctuations.\n",
    "Tokenizer use the whitespace as word-token delimiter.\n",
    "If every character is treated as a token, specify char_level=True."
   ]
  },
  {
   "cell_type": "code",
   "execution_count": 33,
   "id": "78adcfcc",
   "metadata": {
    "scrolled": true
   },
   "outputs": [
    {
     "name": "stdout",
     "output_type": "stream",
     "text": [
      "The document count 64720\n"
     ]
    }
   ],
   "source": [
    "# Utilize the keras tokenizer\n",
    "tokenizer = Tokenizer(num_words = 100)\n",
    "tokenizer.fit_on_texts(df_preprocess.tweet)\n",
    "\n",
    "print(\"The document count\", tokenizer.document_count)"
   ]
  },
  {
   "cell_type": "code",
   "execution_count": 34,
   "id": "998fba91",
   "metadata": {
    "scrolled": false
   },
   "outputs": [
    {
     "data": {
      "text/plain": [
       "{'film': 1,\n",
       " 'one': 2,\n",
       " 'movie': 3,\n",
       " 'like': 4,\n",
       " 'even': 5,\n",
       " 'good': 6,\n",
       " 'time': 7,\n",
       " 'story': 8,\n",
       " 'would': 9,\n",
       " 'much': 10,\n",
       " 'character': 11,\n",
       " 'also': 12,\n",
       " 'get': 13,\n",
       " 'two': 14,\n",
       " 'well': 15,\n",
       " 'characters': 16,\n",
       " 'first': 17,\n",
       " 'see': 18,\n",
       " 'way': 19,\n",
       " 'make': 20,\n",
       " 'life': 21,\n",
       " 'really': 22,\n",
       " 'films': 23,\n",
       " 'plot': 24,\n",
       " 'little': 25,\n",
       " 'people': 26,\n",
       " 'could': 27,\n",
       " 'man': 28,\n",
       " 'scene': 29,\n",
       " 'bad': 30,\n",
       " 'never': 31,\n",
       " 'best': 32,\n",
       " 'new': 33,\n",
       " 'scenes': 34,\n",
       " 'many': 35,\n",
       " 'director': 36,\n",
       " 'know': 37,\n",
       " 'movies': 38,\n",
       " 'action': 39,\n",
       " 'great': 40,\n",
       " 'another': 41,\n",
       " 'love': 42,\n",
       " 'go': 43,\n",
       " 'made': 44,\n",
       " 'us': 45,\n",
       " 'big': 46,\n",
       " 'end': 47,\n",
       " 'something': 48,\n",
       " 'back': 49,\n",
       " 'still': 50,\n",
       " 'world': 51,\n",
       " 'seems': 52,\n",
       " 'work': 53,\n",
       " 'makes': 54,\n",
       " 'however': 55,\n",
       " 'every': 56,\n",
       " 'though': 57,\n",
       " 'better': 58,\n",
       " 'real': 59,\n",
       " 'audience': 60,\n",
       " 'enough': 61,\n",
       " 'seen': 62,\n",
       " 'take': 63,\n",
       " 'around': 64,\n",
       " 'going': 65,\n",
       " 'performance': 66,\n",
       " 'year': 67,\n",
       " 'role': 68,\n",
       " 'old': 69,\n",
       " 'gets': 70,\n",
       " 'may': 71,\n",
       " 'things': 72,\n",
       " 'last': 73,\n",
       " 'think': 74,\n",
       " 'years': 75,\n",
       " 'funny': 76,\n",
       " 'comedy': 77,\n",
       " 'long': 78,\n",
       " 'actually': 79,\n",
       " 'look': 80,\n",
       " 'almost': 81,\n",
       " 'thing': 82,\n",
       " 'fact': 83,\n",
       " 'nothing': 84,\n",
       " 'say': 85,\n",
       " 'john': 86,\n",
       " 'right': 87,\n",
       " 'although': 88,\n",
       " 'played': 89,\n",
       " 'find': 90,\n",
       " 'come': 91,\n",
       " 'script': 92,\n",
       " 'ever': 93,\n",
       " 'cast': 94,\n",
       " 'since': 95,\n",
       " 'star': 96,\n",
       " 'plays': 97,\n",
       " 'young': 98,\n",
       " 'show': 99,\n",
       " 'comes': 100,\n",
       " 'part': 101,\n",
       " 'original': 102,\n",
       " 'actors': 103,\n",
       " 'screen': 104,\n",
       " 'without': 105,\n",
       " 'acting': 106,\n",
       " 'three': 107,\n",
       " 'day': 108,\n",
       " 'point': 109,\n",
       " 'lot': 110,\n",
       " 'least': 111,\n",
       " 'takes': 112,\n",
       " 'guy': 113,\n",
       " 'quite': 114,\n",
       " 'away': 115,\n",
       " 'family': 116,\n",
       " 'effects': 117,\n",
       " 'course': 118,\n",
       " 'goes': 119,\n",
       " 'minutes': 120,\n",
       " 'interesting': 121,\n",
       " 'might': 122,\n",
       " 'far': 123,\n",
       " 'high': 124,\n",
       " 'rather': 125,\n",
       " 'must': 126,\n",
       " 'anything': 127,\n",
       " 'place': 128,\n",
       " 'set': 129,\n",
       " 'yet': 130,\n",
       " 'watch': 131,\n",
       " 'making': 132,\n",
       " 'wife': 133,\n",
       " 'hard': 134,\n",
       " 'always': 135,\n",
       " 'fun': 136,\n",
       " 'special': 137,\n",
       " 'seem': 138,\n",
       " 'times': 139,\n",
       " 'bit': 140,\n",
       " 'hollywood': 141,\n",
       " 'trying': 142,\n",
       " 'instead': 143,\n",
       " 'american': 144,\n",
       " 'give': 145,\n",
       " 'want': 146,\n",
       " 'picture': 147,\n",
       " 'kind': 148,\n",
       " 'job': 149,\n",
       " 'sense': 150,\n",
       " 'woman': 151,\n",
       " 'home': 152,\n",
       " 'series': 153,\n",
       " 'actor': 154,\n",
       " 'probably': 155,\n",
       " 'help': 156,\n",
       " 'half': 157,\n",
       " 'along': 158,\n",
       " 'men': 159,\n",
       " 'everything': 160,\n",
       " 'pretty': 161,\n",
       " 'becomes': 162,\n",
       " 'black': 163,\n",
       " 'sure': 164,\n",
       " 'together': 165,\n",
       " 'dialogue': 166,\n",
       " 'money': 167,\n",
       " 'become': 168,\n",
       " 'gives': 169,\n",
       " 'given': 170,\n",
       " 'looking': 171,\n",
       " 'whole': 172,\n",
       " 'watching': 173,\n",
       " 'father': 174,\n",
       " 'feel': 175,\n",
       " 'everyone': 176,\n",
       " 'music': 177,\n",
       " 'wants': 178,\n",
       " 'sex': 179,\n",
       " 'less': 180,\n",
       " 'done': 181,\n",
       " 'horror': 182,\n",
       " 'got': 183,\n",
       " 'death': 184,\n",
       " 'perhaps': 185,\n",
       " 'city': 186,\n",
       " 'next': 187,\n",
       " 'especially': 188,\n",
       " 'play': 189,\n",
       " 'girl': 190,\n",
       " 'mind': 191,\n",
       " '10': 192,\n",
       " 'moments': 193,\n",
       " 'looks': 194,\n",
       " '2': 195,\n",
       " 'completely': 196,\n",
       " 'night': 197,\n",
       " 'reason': 198,\n",
       " 'mother': 199,\n",
       " 'whose': 200,\n",
       " 'line': 201,\n",
       " 'human': 202,\n",
       " 'performances': 203,\n",
       " 'rest': 204,\n",
       " 'different': 205,\n",
       " 'small': 206,\n",
       " 'evil': 207,\n",
       " 'james': 208,\n",
       " 'simply': 209,\n",
       " 'couple': 210,\n",
       " 'put': 211,\n",
       " 'let': 212,\n",
       " 'anyone': 213,\n",
       " 'ending': 214,\n",
       " 'dead': 215,\n",
       " 'case': 216,\n",
       " 'several': 217,\n",
       " 'michael': 218,\n",
       " 'left': 219,\n",
       " 'thought': 220,\n",
       " 'school': 221,\n",
       " 'true': 222,\n",
       " 'shows': 223,\n",
       " 'humor': 224,\n",
       " 'lost': 225,\n",
       " 'friend': 226,\n",
       " 'written': 227,\n",
       " 'entire': 228,\n",
       " 'getting': 229,\n",
       " 'town': 230,\n",
       " 'turns': 231,\n",
       " 'soon': 232,\n",
       " 'second': 233,\n",
       " 'someone': 234,\n",
       " 'stars': 235,\n",
       " 'main': 236,\n",
       " 'found': 237,\n",
       " 'use': 238,\n",
       " 'problem': 239,\n",
       " 'friends': 240,\n",
       " 'tv': 241,\n",
       " 'top': 242,\n",
       " 'begins': 243,\n",
       " 'name': 244,\n",
       " 'called': 245,\n",
       " 'comic': 246,\n",
       " 'based': 247,\n",
       " 'david': 248,\n",
       " 'head': 249,\n",
       " 'else': 250,\n",
       " 'either': 251,\n",
       " 'idea': 252,\n",
       " 'wrong': 253,\n",
       " 'later': 254,\n",
       " 'unfortunately': 255,\n",
       " 'final': 256,\n",
       " 'house': 257,\n",
       " 'hand': 258,\n",
       " 'alien': 259,\n",
       " 'group': 260,\n",
       " 'full': 261,\n",
       " 'used': 262,\n",
       " 'tries': 263,\n",
       " 'war': 264,\n",
       " 'often': 265,\n",
       " 'sequence': 266,\n",
       " 'live': 267,\n",
       " 'keep': 268,\n",
       " 'turn': 269,\n",
       " 'behind': 270,\n",
       " 'named': 271,\n",
       " 'playing': 272,\n",
       " 'boy': 273,\n",
       " 'certainly': 274,\n",
       " 'believe': 275,\n",
       " 'relationship': 276,\n",
       " 'works': 277,\n",
       " 'face': 278,\n",
       " 'hour': 279,\n",
       " 'run': 280,\n",
       " 'style': 281,\n",
       " 'said': 282,\n",
       " 'person': 283,\n",
       " 'despite': 284,\n",
       " 'finally': 285,\n",
       " 'shot': 286,\n",
       " 'book': 287,\n",
       " 'tell': 288,\n",
       " 'maybe': 289,\n",
       " 'nice': 290,\n",
       " 'perfect': 291,\n",
       " 'son': 292,\n",
       " 'side': 293,\n",
       " 'days': 294,\n",
       " 'able': 295,\n",
       " 'seeing': 296,\n",
       " 'children': 297,\n",
       " 'finds': 298,\n",
       " 'past': 299,\n",
       " 'summer': 300,\n",
       " 'camera': 301,\n",
       " 'including': 302,\n",
       " 'mr': 303,\n",
       " 'kids': 304,\n",
       " 'lives': 305,\n",
       " 'directed': 306,\n",
       " 'game': 307,\n",
       " 'moment': 308,\n",
       " 'running': 309,\n",
       " 'fight': 310,\n",
       " 'supposed': 311,\n",
       " 'video': 312,\n",
       " 'car': 313,\n",
       " 'joe': 314,\n",
       " 'kevin': 315,\n",
       " 'matter': 316,\n",
       " 'lines': 317,\n",
       " 'worth': 318,\n",
       " 'earth': 319,\n",
       " 'daughter': 320,\n",
       " 'starts': 321,\n",
       " 'need': 322,\n",
       " 'white': 323,\n",
       " 'entertaining': 324,\n",
       " 'dark': 325,\n",
       " 'writer': 326,\n",
       " 'start': 327,\n",
       " 'short': 328,\n",
       " 'self': 329,\n",
       " 'worst': 330,\n",
       " 'nearly': 331,\n",
       " 'upon': 332,\n",
       " 'opening': 333,\n",
       " 'team': 334,\n",
       " 'try': 335,\n",
       " 'care': 336,\n",
       " 'violence': 337,\n",
       " 'early': 338,\n",
       " 'throughout': 339,\n",
       " 'beautiful': 340,\n",
       " 'production': 341,\n",
       " 'example': 342,\n",
       " 'exactly': 343,\n",
       " 'jack': 344,\n",
       " 'title': 345,\n",
       " 'major': 346,\n",
       " 'review': 347,\n",
       " 'drama': 348,\n",
       " 'sequences': 349,\n",
       " 'problems': 350,\n",
       " 'screenplay': 351,\n",
       " 'known': 352,\n",
       " 'version': 353,\n",
       " 'obvious': 354,\n",
       " 'killer': 355,\n",
       " 'robert': 356,\n",
       " 'disney': 357,\n",
       " 'already': 358,\n",
       " 'close': 359,\n",
       " 'classic': 360,\n",
       " 'others': 361,\n",
       " 'deep': 362,\n",
       " 'kill': 363,\n",
       " 'hit': 364,\n",
       " 'simple': 365,\n",
       " 'order': 366,\n",
       " 'act': 367,\n",
       " 'five': 368,\n",
       " 'heart': 369,\n",
       " 'fine': 370,\n",
       " 'roles': 371,\n",
       " 'jackie': 372,\n",
       " 'four': 373,\n",
       " 'direction': 374,\n",
       " 'eyes': 375,\n",
       " 'question': 376,\n",
       " 'sort': 377,\n",
       " 'knows': 378,\n",
       " 'sometimes': 379,\n",
       " 'supporting': 380,\n",
       " 'women': 381,\n",
       " 'coming': 382,\n",
       " 'voice': 383,\n",
       " 'truly': 384,\n",
       " 'save': 385,\n",
       " 'jokes': 386,\n",
       " 'computer': 387,\n",
       " 'child': 388,\n",
       " 'scream': 389,\n",
       " 'level': 390,\n",
       " 'tom': 391,\n",
       " '1': 392,\n",
       " 'boring': 393,\n",
       " 'body': 394,\n",
       " 'strong': 395,\n",
       " 'genre': 396,\n",
       " 'stop': 397,\n",
       " 'guys': 398,\n",
       " 'brother': 399,\n",
       " 'room': 400,\n",
       " 'space': 401,\n",
       " 'lee': 402,\n",
       " 'ends': 403,\n",
       " 'york': 404,\n",
       " 'beginning': 405,\n",
       " 'ship': 406,\n",
       " 'attempt': 407,\n",
       " 'thriller': 408,\n",
       " 'peter': 409,\n",
       " 'husband': 410,\n",
       " 'hope': 411,\n",
       " 'hero': 412,\n",
       " 'fiction': 413,\n",
       " 'happens': 414,\n",
       " 'novel': 415,\n",
       " 'note': 416,\n",
       " 'king': 417,\n",
       " 'dog': 418,\n",
       " 'says': 419,\n",
       " 'yes': 420,\n",
       " 'quickly': 421,\n",
       " 'tells': 422,\n",
       " 'oscar': 423,\n",
       " 'romantic': 424,\n",
       " 'saw': 425,\n",
       " 'stupid': 426,\n",
       " 'possible': 427,\n",
       " 'murder': 428,\n",
       " 'lead': 429,\n",
       " 'career': 430,\n",
       " 'extremely': 431,\n",
       " 'manages': 432,\n",
       " 'god': 433,\n",
       " 'wonder': 434,\n",
       " 'mostly': 435,\n",
       " 'particularly': 436,\n",
       " 'future': 437,\n",
       " 'worse': 438,\n",
       " 'fans': 439,\n",
       " 'sound': 440,\n",
       " 'de': 441,\n",
       " 'piece': 442,\n",
       " 'involving': 443,\n",
       " 'planet': 444,\n",
       " 'paul': 445,\n",
       " 'involved': 446,\n",
       " 'appears': 447,\n",
       " 'hours': 448,\n",
       " 'taking': 449,\n",
       " 'none': 450,\n",
       " 'laugh': 451,\n",
       " 'mean': 452,\n",
       " 'police': 453,\n",
       " 'attention': 454,\n",
       " 'co': 455,\n",
       " 'sets': 456,\n",
       " 'hell': 457,\n",
       " 'eventually': 458,\n",
       " 'single': 459,\n",
       " 'fall': 460,\n",
       " 'material': 461,\n",
       " 'falls': 462,\n",
       " 'emotional': 463,\n",
       " 'late': 464,\n",
       " 'power': 465,\n",
       " 'lack': 466,\n",
       " 'van': 467,\n",
       " 'dr': 468,\n",
       " 'result': 469,\n",
       " 'elements': 470,\n",
       " 'meet': 471,\n",
       " 'experience': 472,\n",
       " 'smith': 473,\n",
       " 'bring': 474,\n",
       " 'science': 475,\n",
       " 'wild': 476,\n",
       " 'theater': 477,\n",
       " 'living': 478,\n",
       " 'interest': 479,\n",
       " 'word': 480,\n",
       " 'leads': 481,\n",
       " 'alone': 482,\n",
       " 'battle': 483,\n",
       " 'feature': 484,\n",
       " 'girls': 485,\n",
       " 'george': 486,\n",
       " 'obviously': 487,\n",
       " 'usually': 488,\n",
       " 'enjoy': 489,\n",
       " 'within': 490,\n",
       " 'among': 491,\n",
       " 'guess': 492,\n",
       " 'taken': 493,\n",
       " 'laughs': 494,\n",
       " 'feeling': 495,\n",
       " 'aliens': 496,\n",
       " 'talk': 497,\n",
       " 'talent': 498,\n",
       " 'chance': 499,\n",
       " 'number': 500,\n",
       " 'middle': 501,\n",
       " 'easy': 502,\n",
       " '3': 503,\n",
       " 'needs': 504,\n",
       " 'across': 505,\n",
       " 'happen': 506,\n",
       " 'attempts': 507,\n",
       " 'television': 508,\n",
       " 'chris': 509,\n",
       " 'deal': 510,\n",
       " 'form': 511,\n",
       " 'poor': 512,\n",
       " 'forced': 513,\n",
       " 'release': 514,\n",
       " 'killed': 515,\n",
       " 'girlfriend': 516,\n",
       " 'viewer': 517,\n",
       " 'whether': 518,\n",
       " 'wonderful': 519,\n",
       " 'success': 520,\n",
       " 'features': 521,\n",
       " 'expect': 522,\n",
       " 'light': 523,\n",
       " 'oh': 524,\n",
       " 'tale': 525,\n",
       " 'leave': 526,\n",
       " 'except': 527,\n",
       " 'premise': 528,\n",
       " 'serious': 529,\n",
       " 'feels': 530,\n",
       " 'words': 531,\n",
       " 'ryan': 532,\n",
       " 'important': 533,\n",
       " 'history': 534,\n",
       " 'happy': 535,\n",
       " 'meets': 536,\n",
       " 'released': 537,\n",
       " 'crew': 538,\n",
       " 'art': 539,\n",
       " 'call': 540,\n",
       " 'impressive': 541,\n",
       " 'type': 542,\n",
       " 'turned': 543,\n",
       " 'parents': 544,\n",
       " 'giving': 545,\n",
       " 'score': 546,\n",
       " 'working': 547,\n",
       " 'mission': 548,\n",
       " 'america': 549,\n",
       " 'told': 550,\n",
       " 'entertainment': 551,\n",
       " 'seemed': 552,\n",
       " 'basically': 553,\n",
       " 'robin': 554,\n",
       " 'recent': 555,\n",
       " 'surprise': 556,\n",
       " 'apparently': 557,\n",
       " 'easily': 558,\n",
       " 'crime': 559,\n",
       " 'stuff': 560,\n",
       " 'williams': 561,\n",
       " 'cop': 562,\n",
       " 'office': 563,\n",
       " 'change': 564,\n",
       " 'cool': 565,\n",
       " 'somehow': 566,\n",
       " 'william': 567,\n",
       " 'sequel': 568,\n",
       " 'parts': 569,\n",
       " 'cut': 570,\n",
       " 'die': 571,\n",
       " 'jones': 572,\n",
       " 'batman': 573,\n",
       " 'credits': 574,\n",
       " 'reality': 575,\n",
       " 'suspense': 576,\n",
       " 'brings': 577,\n",
       " 'events': 578,\n",
       " 'local': 579,\n",
       " 'hilarious': 580,\n",
       " 'talking': 581,\n",
       " 'went': 582,\n",
       " 'straight': 583,\n",
       " 'remember': 584,\n",
       " 'difficult': 585,\n",
       " 'writing': 586,\n",
       " 'near': 587,\n",
       " 'using': 588,\n",
       " 'certain': 589,\n",
       " 'ben': 590,\n",
       " 'ago': 591,\n",
       " 'slow': 592,\n",
       " 'red': 593,\n",
       " 'mystery': 594,\n",
       " 'kid': 595,\n",
       " 'blood': 596,\n",
       " 'popular': 597,\n",
       " 'complete': 598,\n",
       " 'fast': 599,\n",
       " 'effective': 600,\n",
       " 'flick': 601,\n",
       " 'due': 602,\n",
       " 'runs': 603,\n",
       " 'quality': 604,\n",
       " 'presence': 605,\n",
       " 'gone': 606,\n",
       " 'return': 607,\n",
       " 'brothers': 608,\n",
       " 'filmmakers': 609,\n",
       " 'age': 610,\n",
       " 'dramatic': 611,\n",
       " 'business': 612,\n",
       " 'general': 613,\n",
       " 'rock': 614,\n",
       " 'present': 615,\n",
       " 'sexual': 616,\n",
       " 'surprisingly': 617,\n",
       " 'uses': 618,\n",
       " 'anyway': 619,\n",
       " 'personal': 620,\n",
       " 'smart': 621,\n",
       " '4': 622,\n",
       " 'figure': 623,\n",
       " 'decides': 624,\n",
       " 'begin': 625,\n",
       " 'ways': 626,\n",
       " 'annoying': 627,\n",
       " 'shots': 628,\n",
       " 'rich': 629,\n",
       " 'somewhat': 630,\n",
       " 'law': 631,\n",
       " 'minute': 632,\n",
       " 'absolutely': 633,\n",
       " 'previous': 634,\n",
       " 'water': 635,\n",
       " 'successful': 636,\n",
       " 'former': 637,\n",
       " 'motion': 638,\n",
       " 'similar': 639,\n",
       " 'jim': 640,\n",
       " 'harry': 641,\n",
       " 'follow': 642,\n",
       " 'strange': 643,\n",
       " 'million': 644,\n",
       " 'came': 645,\n",
       " 'project': 646,\n",
       " 'read': 647,\n",
       " 'secret': 648,\n",
       " 'starring': 649,\n",
       " 'third': 650,\n",
       " 'familiar': 651,\n",
       " 'intelligent': 652,\n",
       " 'clear': 653,\n",
       " 'amazing': 654,\n",
       " 'eye': 655,\n",
       " 'excellent': 656,\n",
       " 'romance': 657,\n",
       " 'party': 658,\n",
       " 'budget': 659,\n",
       " 'prison': 660,\n",
       " 'latest': 661,\n",
       " 'means': 662,\n",
       " 'company': 663,\n",
       " 'actress': 664,\n",
       " 'predictable': 665,\n",
       " 'powerful': 666,\n",
       " 'bob': 667,\n",
       " 'towards': 668,\n",
       " 'leaves': 669,\n",
       " 'beyond': 670,\n",
       " 'visual': 671,\n",
       " 'r': 672,\n",
       " 'wars': 673,\n",
       " 'nature': 674,\n",
       " 'villain': 675,\n",
       " 'leaving': 676,\n",
       " 'following': 677,\n",
       " 'low': 678,\n",
       " 'bill': 679,\n",
       " 'filled': 680,\n",
       " 'b': 681,\n",
       " 'animated': 682,\n",
       " 'sam': 683,\n",
       " 'box': 684,\n",
       " 'country': 685,\n",
       " 'moving': 686,\n",
       " 'questions': 687,\n",
       " 'message': 688,\n",
       " 'cinema': 689,\n",
       " 'martin': 690,\n",
       " 'add': 691,\n",
       " 'large': 692,\n",
       " 'create': 693,\n",
       " 'usual': 694,\n",
       " 'definitely': 695,\n",
       " 'clever': 696,\n",
       " 'giant': 697,\n",
       " 'situation': 698,\n",
       " 'felt': 699,\n",
       " 'ones': 700,\n",
       " 'brilliant': 701,\n",
       " 'stories': 702,\n",
       " 'murphy': 703,\n",
       " 'drug': 704,\n",
       " 'doubt': 705,\n",
       " 'opens': 706,\n",
       " 'break': 707,\n",
       " 'scary': 708,\n",
       " 'solid': 709,\n",
       " 'bunch': 710,\n",
       " 'thinking': 711,\n",
       " 'effect': 712,\n",
       " 'force': 713,\n",
       " 'learn': 714,\n",
       " 'move': 715,\n",
       " 'potential': 716,\n",
       " 'seriously': 717,\n",
       " 'saying': 718,\n",
       " 'huge': 719,\n",
       " 'follows': 720,\n",
       " 'class': 721,\n",
       " 'plan': 722,\n",
       " 'agent': 723,\n",
       " 'created': 724,\n",
       " 'unlike': 725,\n",
       " 'mark': 726,\n",
       " 'pay': 727,\n",
       " 'non': 728,\n",
       " 'sweet': 729,\n",
       " 'perfectly': 730,\n",
       " 'married': 731,\n",
       " 'realize': 732,\n",
       " 'audiences': 733,\n",
       " 'ex': 734,\n",
       " 'subject': 735,\n",
       " 'likely': 736,\n",
       " 'happened': 737,\n",
       " 'enjoyable': 738,\n",
       " 'took': 739,\n",
       " 'understand': 740,\n",
       " 'view': 741,\n",
       " 'decent': 742,\n",
       " 'scott': 743,\n",
       " 'dream': 744,\n",
       " 'viewers': 745,\n",
       " 'studio': 746,\n",
       " 'points': 747,\n",
       " 'immediately': 748,\n",
       " 'heard': 749,\n",
       " 'truman': 750,\n",
       " 'e': 751,\n",
       " 'open': 752,\n",
       " 'cameron': 753,\n",
       " 'bruce': 754,\n",
       " 'frank': 755,\n",
       " 'richard': 756,\n",
       " 'cold': 757,\n",
       " 'wedding': 758,\n",
       " 'private': 759,\n",
       " 'stay': 760,\n",
       " 'impossible': 761,\n",
       " 'fails': 762,\n",
       " 'merely': 763,\n",
       " 'exciting': 764,\n",
       " 'overall': 765,\n",
       " 'neither': 766,\n",
       " 'gun': 767,\n",
       " 'ten': 768,\n",
       " 'free': 769,\n",
       " 'chase': 770,\n",
       " 'escape': 771,\n",
       " 'appear': 772,\n",
       " 'mess': 773,\n",
       " 'wanted': 774,\n",
       " 'carter': 775,\n",
       " 'ultimately': 776,\n",
       " 'fan': 777,\n",
       " 'brought': 778,\n",
       " 'modern': 779,\n",
       " 'l': 780,\n",
       " 'stone': 781,\n",
       " 'trouble': 782,\n",
       " 'trek': 783,\n",
       " 'inside': 784,\n",
       " 'favorite': 785,\n",
       " 'allen': 786,\n",
       " 'tim': 787,\n",
       " '5': 788,\n",
       " 'otherwise': 789,\n",
       " 'society': 790,\n",
       " 'liked': 791,\n",
       " 'bond': 792,\n",
       " 'musical': 793,\n",
       " 'dumb': 794,\n",
       " 'political': 795,\n",
       " 'talented': 796,\n",
       " 'particular': 797,\n",
       " 'stand': 798,\n",
       " 'various': 799,\n",
       " 'west': 800,\n",
       " 'state': 801,\n",
       " 'keeps': 802,\n",
       " 'u': 803,\n",
       " 'english': 804,\n",
       " 'situations': 805,\n",
       " 'silly': 806,\n",
       " 'park': 807,\n",
       " 'air': 808,\n",
       " 'steve': 809,\n",
       " 'slightly': 810,\n",
       " 'teen': 811,\n",
       " 'truth': 812,\n",
       " 'rating': 813,\n",
       " 'spend': 814,\n",
       " 'key': 815,\n",
       " 'joke': 816,\n",
       " 'element': 817,\n",
       " 'eddie': 818,\n",
       " 'today': 819,\n",
       " 'government': 820,\n",
       " 'effort': 821,\n",
       " 'six': 822,\n",
       " 'biggest': 823,\n",
       " 'members': 824,\n",
       " 'focus': 825,\n",
       " 'earlier': 826,\n",
       " 'chan': 827,\n",
       " 'hands': 828,\n",
       " 'soundtrack': 829,\n",
       " 'purpose': 830,\n",
       " 'max': 831,\n",
       " 'showing': 832,\n",
       " 'memorable': 833,\n",
       " 'offers': 834,\n",
       " 'cannot': 835,\n",
       " 'heavy': 836,\n",
       " 'totally': 837,\n",
       " 'rated': 838,\n",
       " 'mars': 839,\n",
       " 'control': 840,\n",
       " 'woody': 841,\n",
       " 'credit': 842,\n",
       " 'fi': 843,\n",
       " 'wait': 844,\n",
       " 'sci': 845,\n",
       " 'sit': 846,\n",
       " 'ideas': 847,\n",
       " 'mary': 848,\n",
       " 'sister': 849,\n",
       " 'fear': 850,\n",
       " 'depth': 851,\n",
       " 'ask': 852,\n",
       " 'list': 853,\n",
       " 'aspect': 854,\n",
       " 'female': 855,\n",
       " 'simon': 856,\n",
       " 'waste': 857,\n",
       " 'terrible': 858,\n",
       " 'british': 859,\n",
       " 'steven': 860,\n",
       " 'actual': 861,\n",
       " 'army': 862,\n",
       " 'fire': 863,\n",
       " 'entirely': 864,\n",
       " 'constantly': 865,\n",
       " 'animation': 866,\n",
       " 'moves': 867,\n",
       " 'street': 868,\n",
       " 'tension': 869,\n",
       " 'gave': 870,\n",
       " 'convincing': 871,\n",
       " 'setting': 872,\n",
       " 'spent': 873,\n",
       " 'brief': 874,\n",
       " 'ability': 875,\n",
       " 'ridiculous': 876,\n",
       " 'nick': 877,\n",
       " 'cinematography': 878,\n",
       " 'typical': 879,\n",
       " '8': 880,\n",
       " 'screenwriter': 881,\n",
       " 'seven': 882,\n",
       " 'violent': 883,\n",
       " 'atmosphere': 884,\n",
       " 'subtle': 885,\n",
       " 'quick': 886,\n",
       " 'killing': 887,\n",
       " 'master': 888,\n",
       " 'fairly': 889,\n",
       " 'tone': 890,\n",
       " 'expected': 891,\n",
       " 'disaster': 892,\n",
       " 'song': 893,\n",
       " 'lots': 894,\n",
       " 'highly': 895,\n",
       " 'background': 896,\n",
       " 'thinks': 897,\n",
       " 'suddenly': 898,\n",
       " 'double': 899,\n",
       " 'cheap': 900,\n",
       " 'willis': 901,\n",
       " 'club': 902,\n",
       " 'ii': 903,\n",
       " 'complex': 904,\n",
       " 'beauty': 905,\n",
       " 'whatever': 906,\n",
       " 'sees': 907,\n",
       " 'impact': 908,\n",
       " 'greatest': 909,\n",
       " 'flat': 910,\n",
       " 'humans': 911,\n",
       " 'wrote': 912,\n",
       " 'amusing': 913,\n",
       " 'grace': 914,\n",
       " 'front': 915,\n",
       " 'indeed': 916,\n",
       " 'mike': 917,\n",
       " 'titanic': 918,\n",
       " 'plenty': 919,\n",
       " 'cute': 920,\n",
       " 'recently': 921,\n",
       " 'hate': 922,\n",
       " 'minor': 923,\n",
       " 'outside': 924,\n",
       " 'wish': 925,\n",
       " 'college': 926,\n",
       " 'dull': 927,\n",
       " 'godzilla': 928,\n",
       " 'sounds': 929,\n",
       " 'cinematic': 930,\n",
       " 'telling': 931,\n",
       " 'hold': 932,\n",
       " 'sight': 933,\n",
       " 'queen': 934,\n",
       " 'meanwhile': 935,\n",
       " 'amount': 936,\n",
       " 'baby': 937,\n",
       " 'clearly': 938,\n",
       " 'x': 939,\n",
       " 'approach': 940,\n",
       " 'theme': 941,\n",
       " 'hear': 942,\n",
       " 'awful': 943,\n",
       " 'dreams': 944,\n",
       " 'reasons': 945,\n",
       " 'island': 946,\n",
       " 'longer': 947,\n",
       " 'charm': 948,\n",
       " 'miss': 949,\n",
       " 'shown': 950,\n",
       " 'realistic': 951,\n",
       " 'believable': 952,\n",
       " 'carry': 953,\n",
       " 'sean': 954,\n",
       " 'chemistry': 955,\n",
       " 'common': 956,\n",
       " 'casting': 957,\n",
       " 'possibly': 958,\n",
       " 'jerry': 959,\n",
       " 'produced': 960,\n",
       " 'imagine': 961,\n",
       " 'ride': 962,\n",
       " 'somewhere': 963,\n",
       " 'choice': 964,\n",
       " 'carrey': 965,\n",
       " 'french': 966,\n",
       " 'trailer': 967,\n",
       " 'tough': 968,\n",
       " 'jackson': 969,\n",
       " 'race': 970,\n",
       " 'slowly': 971,\n",
       " 'delivers': 972,\n",
       " 'hot': 973,\n",
       " 'leader': 974,\n",
       " 'brown': 975,\n",
       " 'detective': 976,\n",
       " 'road': 977,\n",
       " 'thin': 978,\n",
       " 'appearance': 979,\n",
       " 'president': 980,\n",
       " 'puts': 981,\n",
       " 'famous': 982,\n",
       " 'provide': 983,\n",
       " 'member': 984,\n",
       " 'critics': 985,\n",
       " 'asks': 986,\n",
       " 'language': 987,\n",
       " 'spielberg': 988,\n",
       " 'sent': 989,\n",
       " 'intelligence': 990,\n",
       " 'energy': 991,\n",
       " 'etc': 992,\n",
       " 'proves': 993,\n",
       " 'okay': 994,\n",
       " 'blue': 995,\n",
       " 'development': 996,\n",
       " 'vampire': 997,\n",
       " 'caught': 998,\n",
       " 'remains': 999,\n",
       " 'images': 1000,\n",
       " ...}"
      ]
     },
     "execution_count": 34,
     "metadata": {},
     "output_type": "execute_result"
    }
   ],
   "source": [
    "word_index = tokenizer.word_index\n",
    "word_index"
   ]
  },
  {
   "cell_type": "code",
   "execution_count": 35,
   "id": "89ef2d97",
   "metadata": {
    "scrolled": true
   },
   "outputs": [
    {
     "name": "stdout",
     "output_type": "stream",
     "text": [
      "Vocabulary Size : 39245\n"
     ]
    }
   ],
   "source": [
    "vocabulary_size = len(tokenizer.word_index) + 1\n",
    "print(\"Vocabulary Size :\", vocabulary_size)"
   ]
  },
  {
   "cell_type": "markdown",
   "id": "9fdd2f97",
   "metadata": {},
   "source": [
    "### Create a Word2Vec Embedding"
   ]
  },
  {
   "cell_type": "code",
   "execution_count": 36,
   "id": "60f220a5",
   "metadata": {},
   "outputs": [],
   "source": [
    "X_train, X_test, y_train, y_test = train_test_split(df_preprocess['tweet'], \n",
    "                                                    df_preprocess['sentiment'], test_size=0.25, \n",
    "                                                    random_state=42)"
   ]
  },
  {
   "cell_type": "code",
   "execution_count": 37,
   "id": "b3086e55",
   "metadata": {},
   "outputs": [],
   "source": [
    "EMBEDDING_DIM = 300\n",
    "\n",
    "# Creating Word2Vec train dataset\n",
    "train_data = [x.split() for x in X_train]"
   ]
  },
  {
   "cell_type": "markdown",
   "id": "ddcb3caf",
   "metadata": {},
   "source": [
    "Word2Vec creates and trains the word embeddings using the data passed.\n",
    "\n",
    "Training Parameters\n",
    "\n",
    "size: The number of dimensions (N) that the Word2Vec maps the words onto. Bigger size values require more training data, but can lead to better (more accurate) models.\n",
    "\n",
    "workers: Specifies the number of worker threads for training parallelization, to speed up training.\n",
    "\n",
    "min_count: min_count is for pruning the internal dictionary. Words that appear only once or twice in a billion-word corpus are probably uninteresting typos and garbage. In addition, there’s not enough data to make any meaningful training on those words, so it’s best to ignore them."
   ]
  },
  {
   "cell_type": "code",
   "execution_count": 38,
   "id": "78e959f1",
   "metadata": {},
   "outputs": [
    {
     "name": "stdout",
     "output_type": "stream",
     "text": [
      "Vocabulary Length: 12516\n"
     ]
    }
   ],
   "source": [
    "# Defining the model and train\n",
    "word2vec_model = w2v(train_data, vector_size=EMBEDDING_DIM, workers=8,min_count=5)\n",
    "\n",
    "print(\"Vocabulary Length:\", len(word2vec_model.wv.key_to_index))"
   ]
  },
  {
   "cell_type": "code",
   "execution_count": 39,
   "id": "8d7e4f06",
   "metadata": {
    "scrolled": false
   },
   "outputs": [
    {
     "name": "stdout",
     "output_type": "stream",
     "text": [
      "X_train.shape: (48540, 20)\n",
      "X_test.shape : (16180, 20)\n"
     ]
    }
   ],
   "source": [
    "# Define the model input length\n",
    "max_sequence_length = 20\n",
    "\n",
    "X_train = pad_sequences(tokenizer.texts_to_sequences(X_train), maxlen=max_sequence_length)\n",
    "X_test  = pad_sequences(tokenizer.texts_to_sequences(X_test) , maxlen=max_sequence_length)\n",
    "\n",
    "print(\"X_train.shape:\", X_train.shape)\n",
    "print(\"X_test.shape :\", X_test.shape)"
   ]
  },
  {
   "cell_type": "markdown",
   "id": "b6c4b761",
   "metadata": {},
   "source": [
    "**Create Embedding Matrix**"
   ]
  },
  {
   "cell_type": "markdown",
   "id": "73a57e70",
   "metadata": {},
   "source": [
    "Embedding Matrix is a maxtrix of all words and their corresponding embeddings. We use embedding matrix in an Embedding layer in our model to embedded a token into it's vector representation, that contains information regarding that token or word.\n",
    "\n",
    "We get the embedding vocabulary from the tokenizer and the corresponding vectors from the Embedding Model, which in this case is the Word2Vec model.\n",
    "\n",
    "Shape of Embedding matrix is usually the Vocab Length * Embedding Dimension."
   ]
  },
  {
   "cell_type": "code",
   "execution_count": 40,
   "id": "3b0e514d",
   "metadata": {
    "scrolled": true
   },
   "outputs": [
    {
     "name": "stdout",
     "output_type": "stream",
     "text": [
      "Embedding Matrix Shape: (39245, 300)\n"
     ]
    }
   ],
   "source": [
    "embedding_matrix = np.zeros((vocabulary_size, EMBEDDING_DIM))\n",
    "\n",
    "for word, token in tokenizer.word_index.items():\n",
    "    if word2vec_model.wv.__contains__(word):\n",
    "        embedding_matrix[token] = word2vec_model.wv.__getitem__(word)\n",
    "print(\"Embedding Matrix Shape:\", embedding_matrix.shape)"
   ]
  },
  {
   "cell_type": "code",
   "execution_count": 41,
   "id": "dc695709",
   "metadata": {},
   "outputs": [],
   "source": [
    "encoded_text=tokenizer.texts_to_sequences(df_preprocess.tweet)"
   ]
  },
  {
   "cell_type": "code",
   "execution_count": 42,
   "id": "253c2513",
   "metadata": {},
   "outputs": [],
   "source": [
    "max_sequence_length = 60\n",
    "X=pad_sequences(encoded_text, maxlen=max_sequence_length, padding='post')\n",
    "y=df_preprocess['sentiment']"
   ]
  },
  {
   "cell_type": "code",
   "execution_count": 43,
   "id": "415ec930",
   "metadata": {},
   "outputs": [],
   "source": [
    "batch_size = 32\n",
    "epoch = 15"
   ]
  },
  {
   "cell_type": "code",
   "execution_count": 44,
   "id": "039b103a",
   "metadata": {
    "scrolled": false
   },
   "outputs": [
    {
     "name": "stdout",
     "output_type": "stream",
     "text": [
      "Train Data size: 48540\n",
      "Test Data size 16180\n"
     ]
    }
   ],
   "source": [
    "X_train, X_test, y_train, y_test = train_test_split(X, y, test_size=0.25, random_state=42)\n",
    "print(\"Train Data size:\", len(X_train))\n",
    "print(\"Test Data size\", len(X_test))"
   ]
  },
  {
   "cell_type": "code",
   "execution_count": 45,
   "id": "d9ea2b3c",
   "metadata": {
    "scrolled": true
   },
   "outputs": [
    {
     "data": {
      "text/plain": [
       "(39245, 300)"
      ]
     },
     "execution_count": 45,
     "metadata": {},
     "output_type": "execute_result"
    }
   ],
   "source": [
    "embedding_matrix.shape"
   ]
  },
  {
   "cell_type": "code",
   "execution_count": 46,
   "id": "e39deb24",
   "metadata": {},
   "outputs": [],
   "source": [
    "embedding_layer = tf.keras.layers.Embedding(vocabulary_size,\n",
    "                                          EMBEDDING_DIM,\n",
    "                                          weights=[embedding_matrix],\n",
    "                                          input_length=max_sequence_length,\n",
    "                                          trainable=False)"
   ]
  },
  {
   "cell_type": "markdown",
   "id": "203eebd5",
   "metadata": {},
   "source": [
    "We also utilize early stopping."
   ]
  },
  {
   "cell_type": "code",
   "execution_count": 47,
   "id": "3c4cc941",
   "metadata": {},
   "outputs": [],
   "source": [
    "es=EarlyStopping(monitor='val_loss', min_delta=0, mode='min', verbose=1, patience=10)\n",
    "\n",
    "reduce_lr = ReduceLROnPlateau(factor=0.1, min_delta=0, min_lr = 0.01, monitor = 'val_loss', verbose = 1)"
   ]
  },
  {
   "cell_type": "markdown",
   "id": "cd4cec1b",
   "metadata": {},
   "source": [
    "### Create bidirectional LSTM model using Word2Vec"
   ]
  },
  {
   "cell_type": "markdown",
   "id": "5681a6fc",
   "metadata": {},
   "source": [
    "For creating the model, we use\n",
    "\n",
    "- Embedding Layer - Generates Embedding Vector for each input sequence.\n",
    "\n",
    "- LSTM - Long Short Term Memory, its a variant of RNN which has memory state cell to learn the context of words which further along the text carry contextual meaning rather than just neighbouring words as in case of RNN. Unlike standard LSTM in the bi-directional LSTM the input flows in both directions and is capable of utilizing information from both sides.\n",
    "\n",
    "- Dense - Fully Connected Layers for classification"
   ]
  },
  {
   "attachments": {
    "BiLSTM.png": {
     "image/png": "[encoded data removed]"
    }
   },
   "cell_type": "markdown",
   "id": "55ac3a1c",
   "metadata": {},
   "source": [
    "![BiLSTM.png](attachment:BiLSTM.png)"
   ]
  },
  {
   "cell_type": "code",
   "execution_count": 48,
   "id": "6b64a2ba",
   "metadata": {
    "scrolled": true
   },
   "outputs": [
    {
     "name": "stderr",
     "output_type": "stream",
     "text": [
      "2022-11-13 19:41:58.280455: I tensorflow/core/platform/cpu_feature_guard.cc:151] This TensorFlow binary is optimized with oneAPI Deep Neural Network Library (oneDNN) to use the following CPU instructions in performance-critical operations:  AVX2 FMA\n",
      "To enable them in other operations, rebuild TensorFlow with the appropriate compiler flags.\n"
     ]
    }
   ],
   "source": [
    "model=Sequential()\n",
    "\n",
    "model.add(embedding_layer)\n",
    "model.add(SpatialDropout1D(0.2))\n",
    "model.add(Bidirectional(LSTM(64, dropout=0.2, recurrent_dropout=0.2)))\n",
    "model.add(Dense(32, activation='relu'))\n",
    "model.add(Dropout(0.5))\n",
    "\n",
    "model.add(Dense(1, activation='sigmoid'))"
   ]
  },
  {
   "cell_type": "code",
   "execution_count": 49,
   "id": "af06f85f",
   "metadata": {},
   "outputs": [],
   "source": [
    "model.compile(optimizer=Adam(learning_rate=1e-3), loss='binary_crossentropy',metrics=['accuracy'])"
   ]
  },
  {
   "cell_type": "markdown",
   "id": "cbe4e683",
   "metadata": {},
   "source": [
    "#### Plot the model"
   ]
  },
  {
   "cell_type": "code",
   "execution_count": 50,
   "id": "873a1961",
   "metadata": {
    "scrolled": true
   },
   "outputs": [
    {
     "data": {
      "image/png": "[encoded data removed]",
      "text/plain": [
       "<IPython.core.display.Image object>"
      ]
     },
     "execution_count": 50,
     "metadata": {},
     "output_type": "execute_result"
    }
   ],
   "source": [
    "dot_img_file = 'model_1.png'\n",
    "tf.keras.utils.plot_model(model, to_file=dot_img_file, show_shapes=True)"
   ]
  },
  {
   "cell_type": "code",
   "execution_count": 51,
   "id": "3a63cdb5",
   "metadata": {
    "scrolled": true
   },
   "outputs": [
    {
     "name": "stdout",
     "output_type": "stream",
     "text": [
      "Epoch 1/15\n",
      "1517/1517 [==============================] - 428s 277ms/step - loss: 0.6923 - accuracy: 0.5156 - val_loss: 0.6904 - val_accuracy: 0.5190 - lr: 0.0010\n",
      "Epoch 2/15\n",
      "1517/1517 [==============================] - 397s 262ms/step - loss: 0.6910 - accuracy: 0.5279 - val_loss: 0.6894 - val_accuracy: 0.5294 - lr: 0.0010\n",
      "Epoch 3/15\n",
      "1517/1517 [==============================] - 373s 246ms/step - loss: 0.6896 - accuracy: 0.5304 - val_loss: 0.6878 - val_accuracy: 0.5386 - lr: 0.0010\n",
      "Epoch 4/15\n",
      "1517/1517 [==============================] - 317s 209ms/step - loss: 0.6882 - accuracy: 0.5361 - val_loss: 0.6871 - val_accuracy: 0.5402 - lr: 0.0010\n",
      "Epoch 5/15\n",
      "1517/1517 [==============================] - 377s 249ms/step - loss: 0.6874 - accuracy: 0.5367 - val_loss: 0.6863 - val_accuracy: 0.5450 - lr: 0.0010\n",
      "Epoch 6/15\n",
      "1517/1517 [==============================] - 355s 234ms/step - loss: 0.6870 - accuracy: 0.5366 - val_loss: 0.6862 - val_accuracy: 0.5403 - lr: 0.0010\n",
      "Epoch 7/15\n",
      "1517/1517 [==============================] - 380s 250ms/step - loss: 0.6868 - accuracy: 0.5393 - val_loss: 0.6854 - val_accuracy: 0.5437 - lr: 0.0010\n",
      "Epoch 8/15\n",
      "1517/1517 [==============================] - 373s 246ms/step - loss: 0.6859 - accuracy: 0.5403 - val_loss: 0.6848 - val_accuracy: 0.5457 - lr: 0.0010\n",
      "Epoch 9/15\n",
      "1517/1517 [==============================] - 315s 207ms/step - loss: 0.6859 - accuracy: 0.5429 - val_loss: 0.6849 - val_accuracy: 0.5454 - lr: 0.0010\n",
      "Epoch 10/15\n",
      "1517/1517 [==============================] - 299s 197ms/step - loss: 0.6856 - accuracy: 0.5420 - val_loss: 0.6848 - val_accuracy: 0.5429 - lr: 0.0010\n",
      "Epoch 11/15\n",
      "1517/1517 [==============================] - 295s 195ms/step - loss: 0.6844 - accuracy: 0.5455 - val_loss: 0.6848 - val_accuracy: 0.5447 - lr: 0.0010\n",
      "Epoch 12/15\n",
      "1517/1517 [==============================] - 298s 197ms/step - loss: 0.6843 - accuracy: 0.5465 - val_loss: 0.6849 - val_accuracy: 0.5413 - lr: 0.0010\n",
      "Epoch 13/15\n",
      "1517/1517 [==============================] - 1956s 1s/step - loss: 0.6841 - accuracy: 0.5441 - val_loss: 0.6843 - val_accuracy: 0.5426 - lr: 0.0010\n",
      "Epoch 14/15\n",
      "1517/1517 [==============================] - 403s 266ms/step - loss: 0.6842 - accuracy: 0.5488 - val_loss: 0.6831 - val_accuracy: 0.5492 - lr: 0.0010\n",
      "Epoch 15/15\n",
      "1517/1517 [==============================] - 403s 266ms/step - loss: 0.6829 - accuracy: 0.5499 - val_loss: 0.6836 - val_accuracy: 0.5504 - lr: 0.0010\n"
     ]
    }
   ],
   "source": [
    "history = model.fit(X_train, y_train, batch_size=batch_size, epochs=epoch,\n",
    "                    validation_data=(X_test, y_test), callbacks= [es, reduce_lr])"
   ]
  },
  {
   "cell_type": "code",
   "execution_count": 52,
   "id": "c53b502c",
   "metadata": {
    "scrolled": true
   },
   "outputs": [
    {
     "data": {
      "image/png": "[encoded data removed]",
      "text/plain": [
       "<Figure size 720x360 with 2 Axes>"
      ]
     },
     "metadata": {
      "needs_background": "light"
     },
     "output_type": "display_data"
    }
   ],
   "source": [
    "#Plot the learning curves\n",
    "plt.figure(figsize=(10, 5))\n",
    "plt.subplot(1, 2, 1)\n",
    "plt.plot(history.history['accuracy'], label='Train acc')\n",
    "plt.plot(history.history['val_accuracy'], label='Val acc')\n",
    "plt.legend()\n",
    "\n",
    "plt.subplot(1, 2, 2)\n",
    "plt.plot(history.history['loss'], label='Train loss')\n",
    "plt.plot(history.history['val_loss'], label='Val loss')\n",
    "plt.legend()\n",
    "\n",
    "plt.tight_layout()\n",
    "plt.show()"
   ]
  },
  {
   "cell_type": "code",
   "execution_count": 53,
   "id": "19ec1e6a",
   "metadata": {
    "scrolled": false
   },
   "outputs": [
    {
     "name": "stdout",
     "output_type": "stream",
     "text": [
      "506/506 [==============================] - 30s 58ms/step - loss: 0.6836 - accuracy: 0.5504\n",
      "Accuracy: 55.04%\n"
     ]
    }
   ],
   "source": [
    "scores = model.evaluate(X_test, y_test, verbose=1)\n",
    "print(\"Accuracy: %.2f%%\" % (scores[1] * 100))"
   ]
  },
  {
   "cell_type": "code",
   "execution_count": 54,
   "id": "3fba4b98",
   "metadata": {
    "scrolled": false
   },
   "outputs": [
    {
     "name": "stdout",
     "output_type": "stream",
     "text": [
      "[[4176 3465]\n",
      " [3810 4729]]\n",
      "              precision    recall  f1-score   support\n",
      "\n",
      "           0       0.55      0.52      0.53      7986\n",
      "           1       0.55      0.58      0.57      8194\n",
      "\n",
      "    accuracy                           0.55     16180\n",
      "   macro avg       0.55      0.55      0.55     16180\n",
      "weighted avg       0.55      0.55      0.55     16180\n",
      "\n"
     ]
    }
   ],
   "source": [
    "# Predicting on the Test dataset.\n",
    "y_pred = model.predict(X_test)\n",
    "\n",
    "# Converting prediction to reflect the sentiment predicted.\n",
    "y_pred = np.where(y_pred>0.5, 1, 0)\n",
    "\n",
    "# Printing out the Evaluation metrics. \n",
    "from sklearn.metrics import confusion_matrix\n",
    "from sklearn.metrics import classification_report\n",
    "\n",
    "cm = confusion_matrix(y_pred,y_test)\n",
    "print(cm)\n",
    "\n",
    "# Print the evaluation metrics for the dataset.\n",
    "print(classification_report(y_test, y_pred))"
   ]
  },
  {
   "cell_type": "code",
   "execution_count": 55,
   "id": "e1fafff1",
   "metadata": {
    "scrolled": false
   },
   "outputs": [
    {
     "data": {
      "image/png": "[encoded data removed]",
      "text/plain": [
       "<Figure size 432x288 with 2 Axes>"
      ]
     },
     "metadata": {
      "needs_background": "light"
     },
     "output_type": "display_data"
    }
   ],
   "source": [
    "import matplotlib.pyplot as plt\n",
    "\n",
    "# Plot the confusion matrix\n",
    "sns.heatmap(cm, annot = True, fmt = 'd')\n",
    "plt.xlabel('Predicted')\n",
    "plt.ylabel('Actual');"
   ]
  },
  {
   "cell_type": "code",
   "execution_count": 56,
   "id": "83090dbe",
   "metadata": {},
   "outputs": [
    {
     "name": "stdout",
     "output_type": "stream",
     "text": [
      "Saved model to disk\n"
     ]
    }
   ],
   "source": [
    "model.save(\"modelw2v.h5\")\n",
    "print(\"Saved model to disk\")"
   ]
  },
  {
   "cell_type": "markdown",
   "id": "4792bd20",
   "metadata": {},
   "source": [
    "**Predict using the model**"
   ]
  },
  {
   "cell_type": "code",
   "execution_count": 57,
   "id": "f9c4d87e",
   "metadata": {},
   "outputs": [],
   "source": [
    "POSITIVE = \"POSITIVE\"\n",
    "NEGATIVE = \"NEGATIVE\""
   ]
  },
  {
   "cell_type": "code",
   "execution_count": 58,
   "id": "429d4ec2",
   "metadata": {
    "scrolled": true
   },
   "outputs": [],
   "source": [
    "def decode_sentiment(score):\n",
    "    return NEGATIVE if score < 0.5 else POSITIVE"
   ]
  },
  {
   "cell_type": "code",
   "execution_count": 59,
   "id": "95fd7aa4",
   "metadata": {},
   "outputs": [],
   "source": [
    "def predict(text):\n",
    "    print(text)\n",
    "    start_at = time.time()\n",
    "    # Tokenize text\n",
    "    X_test = pad_sequences(tokenizer.texts_to_sequences([text]), maxlen=max_sequence_length)\n",
    "    # Predict\n",
    "    score = model.predict([X_test])[0]\n",
    "    # Decode sentiment\n",
    "    label = decode_sentiment(score)\n",
    "\n",
    "    return {\"label\": label, \"score\": float(score),\n",
    "       \"elapsed_time\": time.time()-start_at} "
   ]
  },
  {
   "cell_type": "code",
   "execution_count": 60,
   "id": "1faa00c6",
   "metadata": {
    "scrolled": false
   },
   "outputs": [
    {
     "name": "stdout",
     "output_type": "stream",
     "text": [
      "The movie was aweful\n"
     ]
    },
    {
     "data": {
      "text/plain": [
       "{'label': 'NEGATIVE',\n",
       " 'score': 0.4887843728065491,\n",
       " 'elapsed_time': 1.2178261280059814}"
      ]
     },
     "execution_count": 60,
     "metadata": {},
     "output_type": "execute_result"
    }
   ],
   "source": [
    "predict(\"The movie was aweful\")"
   ]
  },
  {
   "cell_type": "code",
   "execution_count": 61,
   "id": "2e4772ee",
   "metadata": {
    "scrolled": true
   },
   "outputs": [
    {
     "name": "stdout",
     "output_type": "stream",
     "text": [
      "The film was creative and surprising\n"
     ]
    },
    {
     "data": {
      "text/plain": [
       "{'label': 'NEGATIVE',\n",
       " 'score': 0.48867836594581604,\n",
       " 'elapsed_time': 0.0811612606048584}"
      ]
     },
     "execution_count": 61,
     "metadata": {},
     "output_type": "execute_result"
    }
   ],
   "source": [
    "predict(\"The film was creative and surprising\")"
   ]
  },
  {
   "cell_type": "code",
   "execution_count": null,
   "id": "fb93021e",
   "metadata": {},
   "outputs": [],
   "source": []
  }
 ],
 "metadata": {
  "kernelspec": {
   "display_name": "Python 3 (ipykernel)",
   "language": "python",
   "name": "python3"
  },
  "language_info": {
   "codemirror_mode": {
    "name": "ipython",
    "version": 3
   },
   "file_extension": ".py",
   "mimetype": "text/x-python",
   "name": "python",
   "nbconvert_exporter": "python",
   "pygments_lexer": "ipython3",
   "version": "3.8.1"
  }
 },
 "nbformat": 4,
 "nbformat_minor": 5
}
